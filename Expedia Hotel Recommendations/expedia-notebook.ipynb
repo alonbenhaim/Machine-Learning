{
  "nbformat": 4,
  "nbformat_minor": 0,
  "metadata": {
    "colab": {
      "name": "final.ipynb",
      "provenance": [],
      "collapsed_sections": [
        "oKY-RK7XEm_e",
        "MYBapZxDbEsd",
        "uMFbnyXoa5ar",
        "Wth1Yol4FNF3",
        "qpkx_mESO96l",
        "udQwNMRnEvlY",
        "9QLVsZgVE5Ly",
        "HI8cYV_HQSK7",
        "Np7BQ7EiFFib",
        "VjQDABH0Fexy",
        "34fAz_SKFoT_",
        "Hz1nUo75vfX2",
        "89MIkAZoOUVG",
        "tBfLtdJoObLT",
        "wH6yUe-x2uuN",
        "D6CLWJe9Pgg3",
        "O5YF35uyKv-E",
        "HET9JvMNKzpN",
        "zJWnaGVMpdhc"
      ]
    },
    "kernelspec": {
      "display_name": "Python 3",
      "language": "python",
      "name": "python3"
    },
    "language_info": {
      "codemirror_mode": {
        "name": "ipython",
        "version": 3
      },
      "file_extension": ".py",
      "mimetype": "text/x-python",
      "name": "python",
      "nbconvert_exporter": "python",
      "pygments_lexer": "ipython3",
      "version": "3.8.5"
    }
  },
  "cells": [
    {
      "cell_type": "code",
      "metadata": {
        "colab": {
          "base_uri": "https://localhost:8080/"
        },
        "id": "PtSii6LXJsID",
        "outputId": "81c0af28-f602-4a10-e5ca-aa07f63e2654"
      },
      "source": [
        "!pip install ml_metrics\n",
        "!pip install deslib\n",
        "!pip install faiss-cpu --no-cache\n",
        "!pip install tqdm"
      ],
      "execution_count": null,
      "outputs": [
        {
          "output_type": "stream",
          "text": [
            "/bin/bash: pip: command not found\n",
            "/bin/bash: pip: command not found\n",
            "/bin/bash: pip: command not found\n",
            "/bin/bash: pip: command not found\n",
            "/bin/bash: pip: command not found\n",
            "/bin/bash: pip: command not found\n"
          ],
          "name": "stdout"
        }
      ]
    },
    {
      "cell_type": "markdown",
      "metadata": {
        "id": "oKY-RK7XEm_e"
      },
      "source": [
        "# Imports"
      ]
    },
    {
      "cell_type": "code",
      "metadata": {
        "id": "9i0EPMGtDGFI"
      },
      "source": [
        "# standard \n",
        "import faiss\n",
        "import random\n",
        "import numpy as np\n",
        "import pandas as pd\n",
        "import sklearn as sk\n",
        "import xgboost as xgb\n",
        "import seaborn as sb\n",
        "from tqdm import tqdm, notebook\n",
        "import datetime\n",
        "from matplotlib import pyplot as plt\n",
        "%matplotlib inline\n",
        "# data processing\n",
        "from sklearn.impute import SimpleImputer\n",
        "from sklearn.experimental import enable_iterative_imputer\n",
        "from sklearn.impute import IterativeImputer\n",
        "from sklearn.preprocessing import StandardScaler\n",
        "from sklearn.decomposition import PCA\n",
        "from sklearn.model_selection import train_test_split\n",
        "# loss metric\n",
        "from ml_metrics import mapk\n",
        "from sklearn.metrics import f1_score, accuracy_score\n",
        "# ensemble methods\n",
        "from xgboost import XGBClassifier, XGBRFClassifier\n",
        "from sklearn.ensemble import BaggingClassifier\n",
        "from sklearn.ensemble import AdaBoostClassifier\n",
        "from sklearn.ensemble import RandomForestClassifier\n",
        "from sklearn.ensemble import AdaBoostClassifier\n",
        "from sklearn.multiclass import OneVsRestClassifier\n",
        "# sklearn cross-validation\n",
        "from sklearn.calibration import CalibratedClassifierCV\n",
        "from sklearn.model_selection import KFold\n",
        "from sklearn.model_selection import GridSearchCV\n",
        "from sklearn.model_selection import cross_val_score\n",
        "# individual models\n",
        "from sklearn.svm import SVC, LinearSVC, LinearSVR\n",
        "from sklearn.tree import DecisionTreeClassifier\n",
        "from sklearn.neighbors import KNeighborsClassifier\n",
        "from sklearn.naive_bayes import GaussianNB, BernoulliNB\n",
        "from sklearn.linear_model import LogisticRegression, LogisticRegressionCV\n",
        "from deslib.util.faiss_knn_wrapper import FaissKNNClassifier"
      ],
      "execution_count": null,
      "outputs": []
    },
    {
      "cell_type": "code",
      "metadata": {
        "id": "5NJEXviubMrZ"
      },
      "source": [
        "# for local usage\n",
        "root_path = ''"
      ],
      "execution_count": null,
      "outputs": []
    },
    {
      "cell_type": "code",
      "metadata": {
        "id": "mDKBgLESZ2is"
      },
      "source": [
        "# Data\n",
        "from google.colab import drive\n",
        "\n",
        "drive.mount('/content/gdrive')\n",
        "root_path = 'gdrive/My Drive/Colab Notebooks/CIS_520/Final Project/'"
      ],
      "execution_count": null,
      "outputs": []
    },
    {
      "cell_type": "markdown",
      "metadata": {
        "id": "-xnRVeASErCx"
      },
      "source": [
        "# Data"
      ]
    },
    {
      "cell_type": "markdown",
      "metadata": {
        "id": "MYBapZxDbEsd"
      },
      "source": [
        "## Data Loading"
      ]
    },
    {
      "cell_type": "code",
      "metadata": {
        "id": "BQH9bMlUEu2N"
      },
      "source": [
        "# Global vars\n",
        "rstate = 0\n",
        "p = 0.01\n",
        "v = 10"
      ],
      "execution_count": null,
      "outputs": []
    },
    {
      "cell_type": "code",
      "metadata": {
        "id": "YuOqfASRVBGO"
      },
      "source": [
        "# on colab, use only load_data, leaky_load will run out of memory\n",
        "# loads percentage of data from file\n",
        "def load_data(percentage, filename='train.csv'):\n",
        "  random.seed(rstate)\n",
        "  if percentage == 1:\n",
        "    df = pd.read_csv(root_path + filename, header = 0)\n",
        "  else:\n",
        "    df = pd.read_csv(root_path + filename, header = 0,\n",
        "                          skiprows = lambda i: i > 0 and random.random() > percentage)\n",
        "  df['date_time'] = pd.to_datetime(df['date_time'], errors='coerce')\n",
        "  df['srch_ci'] = pd.to_datetime(df['srch_ci'], errors='coerce')\n",
        "  df['srch_co'] = pd.to_datetime(df['srch_co'], errors='coerce')\n",
        "  df['date_time'].fillna(method='ffill', inplace=True)\n",
        "  df['srch_ci'].fillna(method='ffill', inplace=True)\n",
        "  df['srch_co'].fillna(method='ffill', inplace=True)\n",
        "  return df\n",
        "\n",
        "# prioritizes getting all data for specific number of users \n",
        "def leaky_load(users, filename='train.csv'):\n",
        "  df = load_data(1, filename)\n",
        "  unique = df.user_id.unique().tolist()\n",
        "  selected = random.sample(unique, min(users, len(unique)))\n",
        "  return df[df.user_id.isin(selected)]"
      ],
      "execution_count": null,
      "outputs": []
    },
    {
      "cell_type": "markdown",
      "metadata": {
        "id": "uMFbnyXoa5ar"
      },
      "source": [
        "## Feature Selection Heuristic"
      ]
    },
    {
      "cell_type": "code",
      "metadata": {
        "colab": {
          "base_uri": "https://localhost:8080/"
        },
        "id": "10U7XfpbtuFm",
        "outputId": "9121214b-75e1-4582-d017-b25e3fbe1601"
      },
      "source": [
        "%%time\n",
        "df = load_data(percentage=1)\n",
        "df.head()"
      ],
      "execution_count": null,
      "outputs": [
        {
          "output_type": "stream",
          "text": [
            "CPU times: user 43.3 s, sys: 3.87 s, total: 47.2 s\n",
            "Wall time: 47.7 s\n"
          ],
          "name": "stdout"
        },
        {
          "output_type": "execute_result",
          "data": {
            "text/html": [
              "<div>\n",
              "<style scoped>\n",
              "    .dataframe tbody tr th:only-of-type {\n",
              "        vertical-align: middle;\n",
              "    }\n",
              "\n",
              "    .dataframe tbody tr th {\n",
              "        vertical-align: top;\n",
              "    }\n",
              "\n",
              "    .dataframe thead th {\n",
              "        text-align: right;\n",
              "    }\n",
              "</style>\n",
              "<table border=\"1\" class=\"dataframe\">\n",
              "  <thead>\n",
              "    <tr style=\"text-align: right;\">\n",
              "      <th></th>\n",
              "      <th>date_time</th>\n",
              "      <th>site_name</th>\n",
              "      <th>posa_continent</th>\n",
              "      <th>user_location_country</th>\n",
              "      <th>user_location_region</th>\n",
              "      <th>user_location_city</th>\n",
              "      <th>orig_destination_distance</th>\n",
              "      <th>user_id</th>\n",
              "      <th>is_mobile</th>\n",
              "      <th>is_package</th>\n",
              "      <th>...</th>\n",
              "      <th>srch_children_cnt</th>\n",
              "      <th>srch_rm_cnt</th>\n",
              "      <th>srch_destination_id</th>\n",
              "      <th>srch_destination_type_id</th>\n",
              "      <th>is_booking</th>\n",
              "      <th>cnt</th>\n",
              "      <th>hotel_continent</th>\n",
              "      <th>hotel_country</th>\n",
              "      <th>hotel_market</th>\n",
              "      <th>hotel_cluster</th>\n",
              "    </tr>\n",
              "  </thead>\n",
              "  <tbody>\n",
              "    <tr>\n",
              "      <th>0</th>\n",
              "      <td>2014-08-11 07:46:59</td>\n",
              "      <td>2</td>\n",
              "      <td>3</td>\n",
              "      <td>66</td>\n",
              "      <td>348</td>\n",
              "      <td>48862</td>\n",
              "      <td>2234.2641</td>\n",
              "      <td>12</td>\n",
              "      <td>0</td>\n",
              "      <td>1</td>\n",
              "      <td>...</td>\n",
              "      <td>0</td>\n",
              "      <td>1</td>\n",
              "      <td>8250</td>\n",
              "      <td>1</td>\n",
              "      <td>0</td>\n",
              "      <td>3</td>\n",
              "      <td>2</td>\n",
              "      <td>50</td>\n",
              "      <td>628</td>\n",
              "      <td>1</td>\n",
              "    </tr>\n",
              "    <tr>\n",
              "      <th>1</th>\n",
              "      <td>2014-08-11 08:22:12</td>\n",
              "      <td>2</td>\n",
              "      <td>3</td>\n",
              "      <td>66</td>\n",
              "      <td>348</td>\n",
              "      <td>48862</td>\n",
              "      <td>2234.2641</td>\n",
              "      <td>12</td>\n",
              "      <td>0</td>\n",
              "      <td>1</td>\n",
              "      <td>...</td>\n",
              "      <td>0</td>\n",
              "      <td>1</td>\n",
              "      <td>8250</td>\n",
              "      <td>1</td>\n",
              "      <td>1</td>\n",
              "      <td>1</td>\n",
              "      <td>2</td>\n",
              "      <td>50</td>\n",
              "      <td>628</td>\n",
              "      <td>1</td>\n",
              "    </tr>\n",
              "    <tr>\n",
              "      <th>2</th>\n",
              "      <td>2014-08-11 08:24:33</td>\n",
              "      <td>2</td>\n",
              "      <td>3</td>\n",
              "      <td>66</td>\n",
              "      <td>348</td>\n",
              "      <td>48862</td>\n",
              "      <td>2234.2641</td>\n",
              "      <td>12</td>\n",
              "      <td>0</td>\n",
              "      <td>0</td>\n",
              "      <td>...</td>\n",
              "      <td>0</td>\n",
              "      <td>1</td>\n",
              "      <td>8250</td>\n",
              "      <td>1</td>\n",
              "      <td>0</td>\n",
              "      <td>1</td>\n",
              "      <td>2</td>\n",
              "      <td>50</td>\n",
              "      <td>628</td>\n",
              "      <td>1</td>\n",
              "    </tr>\n",
              "    <tr>\n",
              "      <th>3</th>\n",
              "      <td>2014-08-09 18:05:16</td>\n",
              "      <td>2</td>\n",
              "      <td>3</td>\n",
              "      <td>66</td>\n",
              "      <td>442</td>\n",
              "      <td>35390</td>\n",
              "      <td>913.1932</td>\n",
              "      <td>93</td>\n",
              "      <td>0</td>\n",
              "      <td>0</td>\n",
              "      <td>...</td>\n",
              "      <td>0</td>\n",
              "      <td>1</td>\n",
              "      <td>14984</td>\n",
              "      <td>1</td>\n",
              "      <td>0</td>\n",
              "      <td>1</td>\n",
              "      <td>2</td>\n",
              "      <td>50</td>\n",
              "      <td>1457</td>\n",
              "      <td>80</td>\n",
              "    </tr>\n",
              "    <tr>\n",
              "      <th>4</th>\n",
              "      <td>2014-08-09 18:08:18</td>\n",
              "      <td>2</td>\n",
              "      <td>3</td>\n",
              "      <td>66</td>\n",
              "      <td>442</td>\n",
              "      <td>35390</td>\n",
              "      <td>913.6259</td>\n",
              "      <td>93</td>\n",
              "      <td>0</td>\n",
              "      <td>0</td>\n",
              "      <td>...</td>\n",
              "      <td>0</td>\n",
              "      <td>1</td>\n",
              "      <td>14984</td>\n",
              "      <td>1</td>\n",
              "      <td>0</td>\n",
              "      <td>1</td>\n",
              "      <td>2</td>\n",
              "      <td>50</td>\n",
              "      <td>1457</td>\n",
              "      <td>21</td>\n",
              "    </tr>\n",
              "  </tbody>\n",
              "</table>\n",
              "<p>5 rows × 24 columns</p>\n",
              "</div>"
            ],
            "text/plain": [
              "            date_time  site_name  posa_continent  user_location_country  \\\n",
              "0 2014-08-11 07:46:59          2               3                     66   \n",
              "1 2014-08-11 08:22:12          2               3                     66   \n",
              "2 2014-08-11 08:24:33          2               3                     66   \n",
              "3 2014-08-09 18:05:16          2               3                     66   \n",
              "4 2014-08-09 18:08:18          2               3                     66   \n",
              "\n",
              "   user_location_region  user_location_city  orig_destination_distance  \\\n",
              "0                   348               48862                  2234.2641   \n",
              "1                   348               48862                  2234.2641   \n",
              "2                   348               48862                  2234.2641   \n",
              "3                   442               35390                   913.1932   \n",
              "4                   442               35390                   913.6259   \n",
              "\n",
              "   user_id  is_mobile  is_package  ...  srch_children_cnt srch_rm_cnt  \\\n",
              "0       12          0           1  ...                  0           1   \n",
              "1       12          0           1  ...                  0           1   \n",
              "2       12          0           0  ...                  0           1   \n",
              "3       93          0           0  ...                  0           1   \n",
              "4       93          0           0  ...                  0           1   \n",
              "\n",
              "  srch_destination_id  srch_destination_type_id  is_booking  cnt  \\\n",
              "0                8250                         1           0    3   \n",
              "1                8250                         1           1    1   \n",
              "2                8250                         1           0    1   \n",
              "3               14984                         1           0    1   \n",
              "4               14984                         1           0    1   \n",
              "\n",
              "   hotel_continent  hotel_country  hotel_market  hotel_cluster  \n",
              "0                2             50           628              1  \n",
              "1                2             50           628              1  \n",
              "2                2             50           628              1  \n",
              "3                2             50          1457             80  \n",
              "4                2             50          1457             21  \n",
              "\n",
              "[5 rows x 24 columns]"
            ]
          },
          "metadata": {
            "tags": []
          },
          "execution_count": 6
        }
      ]
    },
    {
      "cell_type": "code",
      "metadata": {
        "colab": {
          "base_uri": "https://localhost:8080/"
        },
        "id": "yGS9WftYuOg4",
        "outputId": "ee11b72f-ec12-4af1-a566-cf0c4833db46"
      },
      "source": [
        "df.columns"
      ],
      "execution_count": null,
      "outputs": [
        {
          "output_type": "execute_result",
          "data": {
            "text/plain": [
              "Index(['date_time', 'site_name', 'posa_continent', 'user_location_country',\n",
              "       'user_location_region', 'user_location_city',\n",
              "       'orig_destination_distance', 'user_id', 'is_mobile', 'is_package',\n",
              "       'channel', 'srch_ci', 'srch_co', 'srch_adults_cnt', 'srch_children_cnt',\n",
              "       'srch_rm_cnt', 'srch_destination_id', 'srch_destination_type_id',\n",
              "       'is_booking', 'cnt', 'hotel_continent', 'hotel_country', 'hotel_market',\n",
              "       'hotel_cluster'],\n",
              "      dtype='object')"
            ]
          },
          "metadata": {
            "tags": []
          },
          "execution_count": 7
        }
      ]
    },
    {
      "cell_type": "code",
      "metadata": {
        "colab": {
          "base_uri": "https://localhost:8080/"
        },
        "id": "v4yYmrPluRK7",
        "outputId": "0a4583da-4287-44e1-dec2-9d22a8228244"
      },
      "source": [
        "df.info()\n",
        "len(df)"
      ],
      "execution_count": null,
      "outputs": [
        {
          "output_type": "stream",
          "text": [
            "<class 'pandas.core.frame.DataFrame'>\n",
            "Int64Index: 37623199 entries, 0 to 37670292\n",
            "Data columns (total 24 columns):\n",
            " #   Column                     Dtype         \n",
            "---  ------                     -----         \n",
            " 0   date_time                  datetime64[ns]\n",
            " 1   site_name                  int64         \n",
            " 2   posa_continent             int64         \n",
            " 3   user_location_country      int64         \n",
            " 4   user_location_region       int64         \n",
            " 5   user_location_city         int64         \n",
            " 6   orig_destination_distance  float64       \n",
            " 7   user_id                    int64         \n",
            " 8   is_mobile                  int64         \n",
            " 9   is_package                 int64         \n",
            " 10  channel                    int64         \n",
            " 11  srch_ci                    datetime64[ns]\n",
            " 12  srch_co                    datetime64[ns]\n",
            " 13  srch_adults_cnt            int64         \n",
            " 14  srch_children_cnt          int64         \n",
            " 15  srch_rm_cnt                int64         \n",
            " 16  srch_destination_id        int64         \n",
            " 17  srch_destination_type_id   int64         \n",
            " 18  is_booking                 int64         \n",
            " 19  cnt                        int64         \n",
            " 20  hotel_continent            int64         \n",
            " 21  hotel_country              int64         \n",
            " 22  hotel_market               int64         \n",
            " 23  hotel_cluster              int64         \n",
            "dtypes: datetime64[ns](3), float64(1), int64(20)\n",
            "memory usage: 7.0 GB\n"
          ],
          "name": "stdout"
        },
        {
          "output_type": "execute_result",
          "data": {
            "text/plain": [
              "37623199"
            ]
          },
          "metadata": {
            "tags": []
          },
          "execution_count": 8
        }
      ]
    },
    {
      "cell_type": "code",
      "metadata": {
        "colab": {
          "base_uri": "https://localhost:8080/",
          "height": 568
        },
        "id": "YcmbqMO-bXs0",
        "outputId": "0b8a0a2a-5a0a-4f37-fce4-43c7ff197c18"
      },
      "source": [
        "# Correlation plotting\n",
        "def plot_corr(data):\n",
        "  corr = data.corr()\n",
        "  mask = np.triu(np.ones_like(corr, dtype=np.bool))\n",
        "  sb.set_style(style = 'white')\n",
        "\n",
        "  f, ax = plt.subplots(figsize=(9, 9))\n",
        "  cmap = sb.diverging_palette(10, 250, as_cmap=True)\n",
        "  sb.heatmap(corr, mask=mask, cmap=cmap, \n",
        "          square=True, vmin=-.6, vmax=.6,\n",
        "          linewidths=.5, cbar_kws={\"shrink\": .5}, ax=ax)\n",
        "\n",
        "plot_corr(df)"
      ],
      "execution_count": null,
      "outputs": [
        {
          "output_type": "display_data",
          "data": {
            "image/png": "[encoded data removed]",
            "text/plain": [
              "<Figure size 648x648 with 2 Axes>"
            ]
          },
          "metadata": {
            "tags": []
          }
        }
      ]
    },
    {
      "cell_type": "markdown",
      "metadata": {
        "id": "212H_lgowdn7"
      },
      "source": [
        "As such, we observe that some features such as site_name and posa_continent, which is defined as the \"ID of continent associated with site_name,\" are highly correlated with one another without being as correlated with our target variable, hotel_cluster, and could thus be removed for model training. We can remove both of these in favor of keeping hotel_continent. Similarly, it makes sense that srch_adults_cnt and srch_rm_cnt would be strongly correlated.\n",
        "Additionally, we can also drop sessions that did not result in a booking, as we are only interested in predicting the ones that do. User behavior is likely to differ between seriously searching for a booking or, say, browsing for resorts in the maledives to distract themselves from their cold February in Philadelphia.\n",
        "Other features we might consider dropping are user_id, for instance. New user_ids are constantly created and, by themselves, are equivalent to noise for our classifiers. Similarly with search_destination_id which, as well, is highly correlated by search_destination_type_id that is much more descriptive, having only 10 possible values instead of the 60k+ of search_destination_id."
      ]
    },
    {
      "cell_type": "code",
      "metadata": {
        "colab": {
          "base_uri": "https://localhost:8080/",
          "height": 568
        },
        "id": "5dvDnlieyCmw",
        "outputId": "f34c5f4b-80d6-4069-e48d-20543ff278a0"
      },
      "source": [
        "# remove site_name, continent ID is likely similar to hotel_continent and is \n",
        "# more important as shown by xgboost below\n",
        "df.drop(columns=['site_name', 'srch_rm_cnt', 'user_id', 'srch_destination_id', \n",
        "                 'is_mobile'], inplace=True)\n",
        "df = df[df['is_booking'] == 1].drop(columns=['is_booking'])\n",
        "plot_corr(df)"
      ],
      "execution_count": null,
      "outputs": [
        {
          "output_type": "display_data",
          "data": {
            "image/png": "[encoded data removed]",
            "text/plain": [
              "<Figure size 648x648 with 2 Axes>"
            ]
          },
          "metadata": {
            "tags": []
          }
        }
      ]
    },
    {
      "cell_type": "markdown",
      "metadata": {
        "id": "WagCOWr67ZyX"
      },
      "source": [
        "TODO talk about random forest feature importance from the end of the file.\n",
        "\n",
        "Additionally, we observe that in their current representation the datetime values are not of much use, and we should consider other embeddings. One such embedding that would better help capture the season, and thus arguably the type of hotel and destination, would be to transform the date-time into its integer month. In a similar fashion, the search_ci and search_co values, checking and checkout dates, are linked and can be merged into a single value indicating the duration of the stay, which can be better compared with other users' bookings. In order to not lose information about the date the user is looking to book the hotel, we ought to also add a field indicating the time between the current search and the checkin date.\n",
        "Another heuristic is that the weekdays in which the search, and the booking, are made can give information about the purpose of the trip. Business trips will likely last less, be booked for different weekdays, and consider different hotels than say a summer family vacation. Perhaps some of these intuitions will be proven wrong, but we could verify this later again when considering correlation heatmaps or feature importance estimated by random forests."
      ]
    },
    {
      "cell_type": "code",
      "metadata": {
        "id": "3ECeP2b08Kmg"
      },
      "source": [
        "df['srch_duration'] = (df['srch_co'] - df['srch_ci']).dt.days\n",
        "df['days_bef_ci'] = (df['srch_ci'] - df['date_time']).dt.days\n",
        "df['srch_month'] = df['date_time'].dt.month\n",
        "df['srch_weekday'] = df['date_time'].dt.weekday\n",
        "df['srch_ci_weekday'] = df['srch_ci'].dt.weekday\n",
        "df['srch_co_weekday'] = df['srch_co'].dt.weekday\n",
        "df.drop(columns=['date_time', 'srch_co', 'srch_ci'], inplace=True)"
      ],
      "execution_count": null,
      "outputs": []
    },
    {
      "cell_type": "code",
      "metadata": {
        "colab": {
          "base_uri": "https://localhost:8080/",
          "height": 568
        },
        "id": "g_Cb5cmi_y-E",
        "outputId": "652e00f7-9856-4cfc-eeda-3277a81a3a84"
      },
      "source": [
        "plot_corr(df)"
      ],
      "execution_count": null,
      "outputs": [
        {
          "output_type": "display_data",
          "data": {
            "image/png": "[encoded data removed]",
            "text/plain": [
              "<Figure size 648x648 with 2 Axes>"
            ]
          },
          "metadata": {
            "tags": []
          }
        }
      ]
    },
    {
      "cell_type": "markdown",
      "metadata": {
        "id": "Wth1Yol4FNF3"
      },
      "source": [
        "## Data Visualisation"
      ]
    },
    {
      "cell_type": "code",
      "metadata": {
        "colab": {
          "base_uri": "https://localhost:8080/",
          "height": 515
        },
        "id": "Od0IQNm2KSTl",
        "outputId": "041b5810-ab17-4c2f-d86b-bf0d12258fc6"
      },
      "source": [
        "%%capture --no-display\n",
        "fig, axs = plt.subplots(nrows=2, ncols=3)\n",
        "fig.set_size_inches(21, 8)\n",
        "sb.countplot('srch_weekday', data=df, order=list(range(0, 7)), ax=axs[0,0])\n",
        "sb.countplot('srch_ci_weekday', data=df, order=list(range(0, 7)), ax=axs[0,1])\n",
        "sb.countplot('srch_co_weekday', data=df, order=list(range(0, 7)), ax=axs[0,2])\n",
        "sb.countplot('srch_month', data=df, order=list(range(1,13)), ax=axs[1,0])\n",
        "sb.countplot('srch_duration', data=df, order=list(range(1,13)), ax=axs[1,1])\n",
        "sb.countplot('days_bef_ci', data=df, order=list(range(1,30)), ax=axs[1,2])"
      ],
      "execution_count": null,
      "outputs": [
        {
          "output_type": "execute_result",
          "data": {
            "text/plain": [
              "<AxesSubplot:xlabel='days_bef_ci', ylabel='count'>"
            ]
          },
          "metadata": {
            "tags": []
          },
          "execution_count": 13
        },
        {
          "output_type": "display_data",
          "data": {
            "image/png": "[encoded data removed]",
            "text/plain": [
              "<Figure size 1512x576 with 6 Axes>"
            ]
          },
          "metadata": {
            "tags": []
          }
        }
      ]
    },
    {
      "cell_type": "code",
      "metadata": {
        "colab": {
          "base_uri": "https://localhost:8080/",
          "height": 297
        },
        "id": "UcqAYbljEzWx",
        "outputId": "637756d4-3ca1-40e5-cb40-4fb1429f4125"
      },
      "source": [
        "%%capture --no-display\n",
        "fig, ax = plt.subplots()\n",
        "fig.set_size_inches(20, 4)\n",
        "sb.countplot('days_bef_ci', data=df, order=list(range(0, 71)), ax=ax)"
      ],
      "execution_count": null,
      "outputs": [
        {
          "output_type": "execute_result",
          "data": {
            "text/plain": [
              "<AxesSubplot:xlabel='days_bef_ci', ylabel='count'>"
            ]
          },
          "metadata": {
            "tags": []
          },
          "execution_count": 14
        },
        {
          "output_type": "display_data",
          "data": {
            "image/png": "[encoded data removed]",
            "text/plain": [
              "<Figure size 1440x288 with 1 Axes>"
            ]
          },
          "metadata": {
            "tags": []
          }
        }
      ]
    },
    {
      "cell_type": "markdown",
      "metadata": {
        "id": "qpkx_mESO96l"
      },
      "source": [
        "## Imputation"
      ]
    },
    {
      "cell_type": "code",
      "metadata": {
        "colab": {
          "base_uri": "https://localhost:8080/"
        },
        "id": "6881MFBBPAwi",
        "outputId": "7a45637a-e1cc-40c2-f9ed-d206c3984460"
      },
      "source": [
        "try:\n",
        "  print(df.isnull().sum())\n",
        "except NameError:\n",
        "  pass"
      ],
      "execution_count": null,
      "outputs": [
        {
          "output_type": "stream",
          "text": [
            "date_time                           0\n",
            "site_name                           0\n",
            "posa_continent                      0\n",
            "user_location_country               0\n",
            "user_location_region                0\n",
            "user_location_city                  0\n",
            "orig_destination_distance    13525001\n",
            "user_id                             0\n",
            "is_mobile                           0\n",
            "is_package                          0\n",
            "channel                             0\n",
            "srch_ci                             0\n",
            "srch_co                             0\n",
            "srch_adults_cnt                     0\n",
            "srch_children_cnt                   0\n",
            "srch_rm_cnt                         0\n",
            "srch_destination_id                 0\n",
            "srch_destination_type_id            0\n",
            "is_booking                          0\n",
            "cnt                                 0\n",
            "hotel_continent                     0\n",
            "hotel_country                       0\n",
            "hotel_market                        0\n",
            "hotel_cluster                       0\n",
            "dtype: int64\n"
          ],
          "name": "stdout"
        }
      ]
    },
    {
      "cell_type": "markdown",
      "metadata": {
        "id": "AShIgYZ5R5DA"
      },
      "source": [
        "As mentioned in the report, the expedia competition faced an issue with data leakage that significantly boosted previous submissions accuracy by +.10 to .20 which, considering that the top10 submissions only average around .53 accuracy, is a tremendous advantage. We do not use this data leak, but based on feature importance from random forest runs, we observed that location is the single-most important feature in predicting hotel_cluster. We can therefore try to impute the orig_destination_distance which is missing the most entries of all the columns."
      ]
    },
    {
      "cell_type": "code",
      "metadata": {
        "id": "3vuZAtPzTGg3"
      },
      "source": [
        "# note: returns an ndarray object\n",
        "def impute_data(data, iterative=True, strat='mean'): # 'most_frequent'\n",
        "  imp = IterativeImputer(missing_values=np.nan) if iterative else SimpleImputer(missing_values=np.nan, strategy=strat)\n",
        "  return imp.fit_transform(data)"
      ],
      "execution_count": null,
      "outputs": []
    },
    {
      "cell_type": "markdown",
      "metadata": {
        "id": "oGYzGxo5bSRV"
      },
      "source": [
        "## Data Processing"
      ]
    },
    {
      "cell_type": "markdown",
      "metadata": {
        "id": "UNCN5Qy3brkQ"
      },
      "source": [
        "Summing up our previous feature selection process, we can define and use the following functions."
      ]
    },
    {
      "cell_type": "code",
      "metadata": {
        "id": "1HcDuVjOb2OK"
      },
      "source": [
        "def filter_data(df):\n",
        "  df.drop(columns=['site_name', 'srch_rm_cnt', 'user_id', 'srch_destination_id', \n",
        "                  'is_mobile'], inplace=True)\n",
        "  if 'is_booking' in list(df.columns):\n",
        "    df = df[df['is_booking'] == 1].drop(columns=['is_booking'])\n",
        "  df['srch_duration'] = (df['srch_co'] - df['srch_ci']).dt.days\n",
        "  df['days_bef_ci'] = (df['srch_ci'] - df['date_time']).dt.days\n",
        "  df['srch_month'] = df['date_time'].dt.month\n",
        "  df['srch_weekday'] = df['date_time'].dt.weekday\n",
        "  df['srch_ci_weekday'] = df['srch_ci'].dt.weekday\n",
        "  df['srch_co_weekday'] = df['srch_co'].dt.weekday\n",
        "  df.drop(columns=['date_time', 'srch_co', 'srch_ci'], inplace=True)\n",
        "  return df"
      ],
      "execution_count": null,
      "outputs": []
    },
    {
      "cell_type": "code",
      "metadata": {
        "id": "gqivUHdldjHx"
      },
      "source": [
        "# (optional) join the raw data with destination dataset on srch_destination_id column\n",
        "# data_raw = data_raw.merge(destinations_raw, how = \"left\", on = \"srch_destination_id\")"
      ],
      "execution_count": null,
      "outputs": []
    },
    {
      "cell_type": "code",
      "metadata": {
        "id": "NvNCZN5hd0gc",
        "outputId": "9360fe80-e6fa-4c0b-e6b5-2aa60a732f6b"
      },
      "source": [
        "%%time\n",
        "data = load_data(percentage=p) # leaky_load(120000)\n",
        "data = filter_data(data)\n",
        "\n",
        "labels = data[\"hotel_cluster\"].to_numpy()\n",
        "data.drop(columns=['hotel_cluster'], inplace=True)\n",
        "feature_names = data.columns.to_list() # for graphing\n",
        "\n",
        "data = impute_data(data)"
      ],
      "execution_count": null,
      "outputs": [
        {
          "output_type": "stream",
          "text": [
            "CPU times: user 11min 1s, sys: 13min 58s, total: 25min\n",
            "Wall time: 2min 28s\n"
          ],
          "name": "stdout"
        }
      ]
    },
    {
      "cell_type": "code",
      "metadata": {
        "colab": {
          "background_save": true
        },
        "id": "OabM8KEwVJIz",
        "outputId": "8447bbee-c3c9-4cf7-9d14-2bd279fb4bb3"
      },
      "source": [
        "# split train/validation and test dataset\n",
        "X_train, X_test, y_train, y_test = train_test_split(data, labels, \n",
        "                                                    random_state = rstate,\n",
        "                                                    test_size = 0.2)\n",
        "X_train, X_val, y_train, y_val = train_test_split(X_train, y_train, \n",
        "                                                    random_state = rstate,\n",
        "                                                    test_size = 0.1)\n",
        "print(\"Training data size: %d\" %(len(y_train)))\n",
        "print(\"Validation data size: %d\" %(len(y_val)))\n",
        "print(\"Test data size: %d\" %(len(y_test)))"
      ],
      "execution_count": null,
      "outputs": [
        {
          "output_type": "stream",
          "text": [
            "Training data size: 2160498\n",
            "Validation data size: 240056\n",
            "Test data size: 600139\n"
          ],
          "name": "stdout"
        }
      ]
    },
    {
      "cell_type": "code",
      "metadata": {
        "colab": {
          "background_save": true
        },
        "id": "KKgt-91qVT_G"
      },
      "source": [
        "# standardize for mean and variance, set non-std to None if necessary\n",
        "scaler = StandardScaler() \n",
        "scaler.fit(X_train)\n",
        "\n",
        "X_std_train = scaler.transform(X_train)\n",
        "X_std_val = scaler.transform(X_val)\n",
        "X_std_test = scaler.transform(X_test)\n",
        "# X_train, X_val, X_test = None, None, None"
      ],
      "execution_count": null,
      "outputs": []
    },
    {
      "cell_type": "markdown",
      "metadata": {
        "id": "udQwNMRnEvlY"
      },
      "source": [
        "# Methods"
      ]
    },
    {
      "cell_type": "markdown",
      "metadata": {
        "id": "9QLVsZgVE5Ly"
      },
      "source": [
        "## Generic Functions"
      ]
    },
    {
      "cell_type": "code",
      "metadata": {
        "id": "-nLv36NIFElU"
      },
      "source": [
        "# converts probabilites ps to most likely classes\n",
        "def to_preds(ps):\n",
        "  return (-ps).argsort(axis=-1)"
      ],
      "execution_count": null,
      "outputs": []
    },
    {
      "cell_type": "code",
      "metadata": {
        "id": "y2dWUyCvE9_b"
      },
      "source": [
        "# MAP@5 function\n",
        "# input: list of probabilities (lists), list of actual values\n",
        "def map5probs(actual, predicted_probabilities):\n",
        "  predicted = to_preds(predicted_probabilities)\n",
        "  return map5preds(actual, predicted)\n",
        "\n",
        "# input: list of predictions (lists)\n",
        "def map5preds(actual, predicted_ranks):\n",
        "  actual = [[y] for y in actual]\n",
        "  return mapk(actual, predicted_ranks[:, :5], 5)"
      ],
      "execution_count": null,
      "outputs": []
    },
    {
      "cell_type": "code",
      "metadata": {
        "id": "2iGpd1C6mk9q"
      },
      "source": [
        "# sklearn-type scorer that can be used in GridSearchCV\n",
        "def sk_map5(clf, X, y_true):\n",
        "  ps = clf.predict_proba(X)\n",
        "  return map5probs(y_true, ps)"
      ],
      "execution_count": null,
      "outputs": []
    },
    {
      "cell_type": "code",
      "metadata": {
        "id": "m-oVhRNtx2Z3"
      },
      "source": [
        "# xgb-type scorer used in xgb training\n",
        "def xgb_map5(ps, dtrain):\n",
        "    actual = dtrain.get_label()\n",
        "    return 'MAP@5', -map5probs(actual, ps)"
      ],
      "execution_count": null,
      "outputs": []
    },
    {
      "cell_type": "code",
      "metadata": {
        "id": "jfeNa1UHNy5n"
      },
      "source": [
        "# takes model capable of predicting probabilities, trains it, and runs acc_stats \n",
        "def acc(clf, X_train, y_train, X_test, y_test):\n",
        "    clf.fit(X_train, y_train)\n",
        "    return acc_stats(clf, X_test, y_test)\n",
        "\n",
        "# returns map5 acc. as well as rank stats for predictions\n",
        "def acc_stats(clf, X_test, y_test):\n",
        "  ps = clf.predict_proba(X_test)\n",
        "  preds = to_preds(ps)\n",
        "  return pred_stats(preds, y_test)\n",
        "\n",
        "# takes in a list of predictions (100 elts each)\n",
        "def pred_stats(preds, y_test):\n",
        "  ranks = [0]*100\n",
        "  for i, (y, p) in enumerate(zip(y_test, preds.tolist())):\n",
        "    ranks[p.index(y)] += 1\n",
        "\n",
        "  return map5preds(y_test, preds), ranks\n",
        "\n",
        "# computes both std stats as well as result from applying leak\n",
        "def leaky_stats(clf, leaky_clf, X_test, y_test, X_test_leaky, replacements=2):\n",
        "  ps = clf.predict_proba(X_test)\n",
        "  preds = to_preds(ps)\n",
        "  clf_stats = pred_stats(preds, y_test)\n",
        "\n",
        "  l_preds = leaky_clf.predict(preds, X_test_leaky, replacements)\n",
        "  l_stats = pred_stats(l_preds, y_test)\n",
        "  return clf_stats, l_stats\n",
        "\n",
        "# plots rank and map5 stats\n",
        "def plot_acc_stats(stats):\n",
        "  # plt.rcdefaults() # resets to pyplot defaults\n",
        "  acc, ranks = stats\n",
        "  fig, ax = plt.subplots()\n",
        "  ax.bar(x=np.arange(len(ranks)), \n",
        "         height=np.array(ranks) * 100.0 / np.sum(ranks))\n",
        "  \n",
        "  plt.xlabel('suggestion rank')\n",
        "  plt.ylabel('% test set')\n",
        "  ax.spines['top'].set_visible(False)\n",
        "  ax.spines['right'].set_visible(False)\n",
        "  ax.set_axisbelow(True)\n",
        "  ax.yaxis.grid(True, color='#DDDDDD')\n",
        "\n",
        "  ax.set_title('rank of true y in suggestions\\n map@5: %.4f' %(acc))\n",
        "  plt.show()\n",
        "\n",
        "# writes list of predictions to file for Kaggle submission\n",
        "def make_submission(preds):\n",
        "  now = datetime.datetime.now()\n",
        "  fn = 'submission_' + str(now.strftime(\"%Y-%m-%d-%H-%M\")) + '.csv'\n",
        "  out = open(fn, \"w\")\n",
        "  i = 0\n",
        "  out.write(\"id,hotel_cluster\\n\")\n",
        "  for pred in tqdm(preds, total=len(preds)):\n",
        "    out.write(str(i) + ',')\n",
        "    for p in pred[:5]:\n",
        "      out.write(' ' + str(p))\n",
        "    out.write('\\n')\n",
        "    i += 1\n",
        "  out.close()"
      ],
      "execution_count": null,
      "outputs": []
    },
    {
      "cell_type": "code",
      "metadata": {
        "id": "M11G8vTAN1Gl"
      },
      "source": [
        "# prints results of a GridSearchCV fit. Code from sklearn tutorial\n",
        "def print_gridCV(clf):\n",
        "  print(\"Grid scores on development set:\\n\")\n",
        "  means = clf.cv_results_['mean_test_score']\n",
        "  stds = clf.cv_results_['std_test_score']\n",
        "  for mean, std, params in zip(means, stds, clf.cv_results_['params']):\n",
        "      print(\"%0.3f (+/-%0.03f) for %r\"\n",
        "            % (mean, std * 2, params))\n",
        "  print()"
      ],
      "execution_count": null,
      "outputs": []
    },
    {
      "cell_type": "code",
      "metadata": {
        "id": "jRSLTVY1pdhY"
      },
      "source": [
        "# Gradient Boosting Tree classifier pre-trained on 70-10-20 train-val-test split of full train.csv\n",
        "def load_gbt(filename='gbt.model'):\n",
        "  gbt = XGBClassifier(objective = 'multi:softmax',\n",
        "                      tree_method = 'hist', #'gpu_hist' if gpu available\n",
        "                      max_depth = 5, \n",
        "                      n_estimators=300,\n",
        "                      n_jobs=-1,\n",
        "                      #learning_rate=0.01, \n",
        "                      random_state=rstate,\n",
        "                      min_child_weight = 3,\n",
        "                      silent=False)\n",
        "\n",
        "  gbt.load_model(root_path + filename)\n",
        "  return gbt"
      ],
      "execution_count": null,
      "outputs": []
    },
    {
      "cell_type": "markdown",
      "metadata": {
        "id": "HI8cYV_HQSK7"
      },
      "source": [
        "## Baseline"
      ]
    },
    {
      "cell_type": "code",
      "metadata": {
        "colab": {
          "base_uri": "https://localhost:8080/"
        },
        "id": "e-voZKKNQRB9",
        "outputId": "2b2eed6d-aefc-4ae4-9782-6ebf16da99ee"
      },
      "source": [
        "baseline = np.array([[90, 64, 40, 58, 82]] * len(y_test))\n",
        "map5preds(y_test, baseline)"
      ],
      "execution_count": null,
      "outputs": [
        {
          "output_type": "execute_result",
          "data": {
            "text/plain": [
              "0.022692265070921987"
            ]
          },
          "metadata": {
            "tags": []
          },
          "execution_count": 51
        }
      ]
    },
    {
      "cell_type": "markdown",
      "metadata": {
        "id": "Np7BQ7EiFFib"
      },
      "source": [
        "## SVM"
      ]
    },
    {
      "cell_type": "code",
      "metadata": {
        "colab": {
          "base_uri": "https://localhost:8080/"
        },
        "id": "uojpycCvFb66",
        "outputId": "a2f1c88f-26a3-4311-916e-d5621f8be406"
      },
      "source": [
        "%%time \n",
        "# SVM is computationally intractable for this problem, \"more than quadratic in number of samples\"\n",
        "# according to sklearn docs. Linear SVMs such as LinearSVC or LinearSVR do not implement predict_proba \n",
        "# necessary for map5 computation\n",
        "\n",
        "# clf = BaggingClassifier(base_estimator = SVC(), n_estimators = 20, n_jobs=-1, verbose=v)\n",
        "# acc(clf, X_std_train, y_train, X_std_test, y_test)"
      ],
      "execution_count": null,
      "outputs": [
        {
          "output_type": "stream",
          "text": [
            "CPU times: user 1 µs, sys: 1e+03 ns, total: 2 µs\n",
            "Wall time: 4.53 µs\n"
          ],
          "name": "stdout"
        }
      ]
    },
    {
      "cell_type": "markdown",
      "metadata": {
        "id": "VjQDABH0Fexy"
      },
      "source": [
        "## Logistic Regression"
      ]
    },
    {
      "cell_type": "code",
      "metadata": {
        "colab": {
          "base_uri": "https://localhost:8080/",
          "height": 429
        },
        "id": "xO_UToHTFi2C",
        "outputId": "dfb1cce3-eb43-494d-91e3-935b5858a826"
      },
      "source": [
        "%%time\n",
        "# single logistic regressor\n",
        "lg_CV = LogisticRegressionCV(random_state = rstate, max_iter=100, n_jobs=-1, verbose=v)\n",
        "plot_acc_stats(acc(lg_CV, X_std_train, y_train, X_std_test, y_test))"
      ],
      "execution_count": null,
      "outputs": [
        {
          "output_type": "stream",
          "text": [
            "[Parallel(n_jobs=-1)]: Using backend LokyBackend with 20 concurrent workers.\n",
            "[Parallel(n_jobs=-1)]: Done   2 out of   5 | elapsed:  6.8min remaining: 10.2min\n",
            "[Parallel(n_jobs=-1)]: Done   3 out of   5 | elapsed:  6.8min remaining:  4.5min\n",
            "[Parallel(n_jobs=-1)]: Done   5 out of   5 | elapsed:  6.9min remaining:    0.0s\n",
            "[Parallel(n_jobs=-1)]: Done   5 out of   5 | elapsed:  6.9min finished\n"
          ],
          "name": "stderr"
        },
        {
          "output_type": "display_data",
          "data": {
            "image/png": "[encoded data removed]",
            "text/plain": [
              "<Figure size 432x288 with 1 Axes>"
            ]
          },
          "metadata": {
            "tags": [],
            "needs_background": "light"
          }
        },
        {
          "output_type": "stream",
          "text": [
            "CPU times: user 1min 7s, sys: 1min 5s, total: 2min 13s\n",
            "Wall time: 7min 10s\n"
          ],
          "name": "stdout"
        }
      ]
    },
    {
      "cell_type": "code",
      "metadata": {
        "id": "9W52XU6kOJhE"
      },
      "source": [
        "%%time\n",
        "# Bagging\n",
        "lg = LogisticRegression(random_state = rstate, max_iter=100, n_jobs = -1)\n",
        "lg_bag = BaggingClassifier(base_estimator = SVC(), n_estimators = 20, n_jobs=-1, verbose=v)\n",
        "plot_acc_stats(acc(lg_bag, X_std_train, y_train, X_std_test, y_test))"
      ],
      "execution_count": null,
      "outputs": []
    },
    {
      "cell_type": "markdown",
      "metadata": {
        "id": "34fAz_SKFoT_"
      },
      "source": [
        "## KNN"
      ]
    },
    {
      "cell_type": "code",
      "metadata": {
        "id": "kRAZhVcyFqRI"
      },
      "source": [
        "%%time\n",
        "parameters = {'n_neighbors' : [2**i for i in range(8)]}\n",
        "knn = KNeighborsClassifier(n_jobs = -1)\n",
        "knn_srch = GridSearchCV(knn, parameters, scoring = sk_map5, n_jobs = -1, verbose=v)\n",
        "plot_acc_stats(acc(knn_srch, X_std_train, y_train, X_std_test, y_test))"
      ],
      "execution_count": null,
      "outputs": []
    },
    {
      "cell_type": "code",
      "metadata": {
        "id": "WQD1GoBeOO9W"
      },
      "source": [
        "print_gridCV(knn_srch)"
      ],
      "execution_count": null,
      "outputs": []
    },
    {
      "cell_type": "code",
      "metadata": {
        "id": "ghZhUAGcvmb8",
        "outputId": "ad214316-0ac9-4b35-fadf-fbb06a6e16b9"
      },
      "source": [
        "%%time\n",
        "# wrapper for facebook's \"faiss\" knn implementation -- orders of magnitude faster than sklearn\n",
        "faiss.omp_set_num_threads(faiss.omp_get_max_threads())\n",
        "# print(acc(faiss_knn, X_std_train, y_train, X_std_test, y_test))\n",
        "ns = [2**i for i in range(8)]\n",
        "kf = KFold(5, shuffle=True, random_state = rstate)\n",
        "best_k = 0\n",
        "best_cv = 0\n",
        "for k in ns:\n",
        "  fold_scores = []\n",
        "  for train_idx, val_idx in kf.split(X_std_train):\n",
        "    clf = FaissKNNClassifier(n_neighbors=k, n_jobs = -1)\n",
        "    score, _ = acc(clf, X_std_train[train_idx], y_train[train_idx], \n",
        "                           X_std_train[val_idx], y_train[val_idx])\n",
        "    fold_scores.append(score)\n",
        "  cv = np.mean(fold_scores)\n",
        "  if cv > best_cv:\n",
        "    best_cv = cv\n",
        "    best_k = k\n",
        "  print('CV using k = %d: %.4f' %(k, cv))\n",
        "  \n",
        "plot_acc_stats(acc(FaissKNNClassifier(n_neighbors=best_k, n_jobs=-1), \n",
        "                   X_std_train, y_train, X_std_test, y_test))"
      ],
      "execution_count": null,
      "outputs": [
        {
          "output_type": "stream",
          "text": [
            "CV using k = 1: 0.0766\n",
            "CV using k = 2: 0.0845\n",
            "CV using k = 4: 0.0924\n",
            "CV using k = 8: 0.0949\n",
            "CV using k = 16: 0.0994\n",
            "CV using k = 32: 0.1096\n",
            "CV using k = 64: 0.1166\n",
            "CV using k = 128: 0.1220\n"
          ],
          "name": "stdout"
        },
        {
          "output_type": "display_data",
          "data": {
            "image/png": "[encoded data removed]",
            "text/plain": [
              "<Figure size 432x288 with 1 Axes>"
            ]
          },
          "metadata": {
            "tags": [],
            "needs_background": "light"
          }
        },
        {
          "output_type": "stream",
          "text": [
            "CPU times: user 11min 44s, sys: 0 ns, total: 11min 44s\n",
            "Wall time: 11min 36s\n"
          ],
          "name": "stdout"
        }
      ]
    },
    {
      "cell_type": "markdown",
      "metadata": {
        "id": "Hz1nUo75vfX2"
      },
      "source": [
        "## Naive Bayes"
      ]
    },
    {
      "cell_type": "code",
      "metadata": {
        "id": "cwJL_oAavsyd",
        "outputId": "bdf0edcc-2426-46d6-e65c-1c2b5b413c02"
      },
      "source": [
        "%%time\n",
        "gauss_score = cross_val_score(GaussianNB(), X_std_train, y_train, \n",
        "                              scoring = sk_map5, \n",
        "                              n_jobs = -1, verbose=v)\n",
        "print(\"Accuracy: %0.2f (+/- %0.2f)\" % (gauss_score.mean(), gauss_score.std() * 2))\n",
        "plot_acc_stats(acc(GaussianNB(), X_std_train, y_train, X_std_test, y_test))"
      ],
      "execution_count": null,
      "outputs": [
        {
          "output_type": "stream",
          "text": [
            "[Parallel(n_jobs=-1)]: Using backend LokyBackend with 20 concurrent workers.\n",
            "[Parallel(n_jobs=-1)]: Done   2 out of   5 | elapsed:    1.6s remaining:    2.4s\n",
            "[Parallel(n_jobs=-1)]: Done   3 out of   5 | elapsed:    1.6s remaining:    1.1s\n",
            "[Parallel(n_jobs=-1)]: Done   5 out of   5 | elapsed:    1.6s remaining:    0.0s\n",
            "[Parallel(n_jobs=-1)]: Done   5 out of   5 | elapsed:    1.6s finished\n"
          ],
          "name": "stderr"
        },
        {
          "output_type": "stream",
          "text": [
            "Accuracy: 0.09 (+/- 0.00)\n"
          ],
          "name": "stdout"
        },
        {
          "output_type": "display_data",
          "data": {
            "image/png": "[encoded data removed]",
            "text/plain": [
              "<Figure size 432x288 with 1 Axes>"
            ]
          },
          "metadata": {
            "tags": [],
            "needs_background": "light"
          }
        },
        {
          "output_type": "stream",
          "text": [
            "CPU times: user 1.25 s, sys: 0 ns, total: 1.25 s\n",
            "Wall time: 2.91 s\n"
          ],
          "name": "stdout"
        }
      ]
    },
    {
      "cell_type": "code",
      "metadata": {
        "id": "65WEGq9_QcoX",
        "outputId": "8a0b3c99-4414-491b-9c70-ce6c24eccd1a"
      },
      "source": [
        "%%time\n",
        "bernoulli_score = cross_val_score(BernoulliNB(), X_std_train, y_train, \n",
        "                                  scoring = sk_map5, \n",
        "                                  n_jobs = -1, verbose=v)\n",
        "print(\"Accuracy: %0.2f (+/- %0.2f)\" % (bernoulli_score.mean(), bernoulli_score.std() * 2))\n",
        "plot_acc_stats(acc(BernoulliNB(), X_std_train, y_train, X_std_test, y_test))"
      ],
      "execution_count": null,
      "outputs": [
        {
          "output_type": "stream",
          "text": [
            "[Parallel(n_jobs=-1)]: Using backend LokyBackend with 20 concurrent workers.\n",
            "[Parallel(n_jobs=-1)]: Done   2 out of   5 | elapsed:    1.0s remaining:    1.5s\n",
            "[Parallel(n_jobs=-1)]: Done   3 out of   5 | elapsed:    1.0s remaining:    0.7s\n",
            "[Parallel(n_jobs=-1)]: Done   5 out of   5 | elapsed:    1.0s remaining:    0.0s\n",
            "[Parallel(n_jobs=-1)]: Done   5 out of   5 | elapsed:    1.0s finished\n"
          ],
          "name": "stderr"
        },
        {
          "output_type": "stream",
          "text": [
            "Accuracy: 0.12 (+/- 0.00)\n"
          ],
          "name": "stdout"
        },
        {
          "output_type": "display_data",
          "data": {
            "image/png": "[encoded data removed]",
            "text/plain": [
              "<Figure size 432x288 with 1 Axes>"
            ]
          },
          "metadata": {
            "tags": [],
            "needs_background": "light"
          }
        },
        {
          "output_type": "stream",
          "text": [
            "CPU times: user 1.91 s, sys: 2.1 s, total: 4.01 s\n",
            "Wall time: 2.18 s\n"
          ],
          "name": "stdout"
        }
      ]
    },
    {
      "cell_type": "markdown",
      "metadata": {
        "id": "89MIkAZoOUVG"
      },
      "source": [
        "## Random Forest"
      ]
    },
    {
      "cell_type": "code",
      "metadata": {
        "id": "AsF26DkjOWs_",
        "outputId": "d6de105f-edd0-44d1-a454-4a154d8dbf7e"
      },
      "source": [
        "%%time\n",
        "parameters = {'n_estimators' : [1,5,10,50,100,200]}\n",
        "rf = RandomForestClassifier(n_jobs=-1, random_state = rstate)\n",
        "rf_srch = GridSearchCV(rf, parameters, scoring = sk_map5, verbose=v)\n",
        "plot_acc_stats(acc(rf_srch, X_std_train, y_train, X_std_test, y_test))"
      ],
      "execution_count": null,
      "outputs": [
        {
          "output_type": "stream",
          "text": [
            "Fitting 5 folds for each of 6 candidates, totalling 30 fits\n",
            "[CV] n_estimators=1 ..................................................\n"
          ],
          "name": "stdout"
        },
        {
          "output_type": "stream",
          "text": [
            "[Parallel(n_jobs=1)]: Using backend SequentialBackend with 1 concurrent workers.\n"
          ],
          "name": "stderr"
        },
        {
          "output_type": "stream",
          "text": [
            "[CV] ...................... n_estimators=1, score=0.088, total=   3.1s\n",
            "[CV] n_estimators=1 ..................................................\n"
          ],
          "name": "stdout"
        },
        {
          "output_type": "stream",
          "text": [
            "[Parallel(n_jobs=1)]: Done   1 out of   1 | elapsed:    3.1s remaining:    0.0s\n"
          ],
          "name": "stderr"
        },
        {
          "output_type": "stream",
          "text": [
            "[CV] ...................... n_estimators=1, score=0.083, total=   1.4s\n",
            "[CV] n_estimators=1 ..................................................\n"
          ],
          "name": "stdout"
        },
        {
          "output_type": "stream",
          "text": [
            "[Parallel(n_jobs=1)]: Done   2 out of   2 | elapsed:    4.5s remaining:    0.0s\n"
          ],
          "name": "stderr"
        },
        {
          "output_type": "stream",
          "text": [
            "[CV] ...................... n_estimators=1, score=0.078, total=   1.3s\n",
            "[CV] n_estimators=1 ..................................................\n"
          ],
          "name": "stdout"
        },
        {
          "output_type": "stream",
          "text": [
            "[Parallel(n_jobs=1)]: Done   3 out of   3 | elapsed:    5.8s remaining:    0.0s\n"
          ],
          "name": "stderr"
        },
        {
          "output_type": "stream",
          "text": [
            "[CV] ...................... n_estimators=1, score=0.087, total=   1.3s\n",
            "[CV] n_estimators=1 ..................................................\n"
          ],
          "name": "stdout"
        },
        {
          "output_type": "stream",
          "text": [
            "[Parallel(n_jobs=1)]: Done   4 out of   4 | elapsed:    7.1s remaining:    0.0s\n"
          ],
          "name": "stderr"
        },
        {
          "output_type": "stream",
          "text": [
            "[CV] ...................... n_estimators=1, score=0.077, total=   1.3s\n",
            "[CV] n_estimators=5 ..................................................\n"
          ],
          "name": "stdout"
        },
        {
          "output_type": "stream",
          "text": [
            "[Parallel(n_jobs=1)]: Done   5 out of   5 | elapsed:    8.4s remaining:    0.0s\n"
          ],
          "name": "stderr"
        },
        {
          "output_type": "stream",
          "text": [
            "[CV] ...................... n_estimators=5, score=0.158, total=   2.5s\n",
            "[CV] n_estimators=5 ..................................................\n"
          ],
          "name": "stdout"
        },
        {
          "output_type": "stream",
          "text": [
            "[Parallel(n_jobs=1)]: Done   6 out of   6 | elapsed:   11.0s remaining:    0.0s\n"
          ],
          "name": "stderr"
        },
        {
          "output_type": "stream",
          "text": [
            "[CV] ...................... n_estimators=5, score=0.154, total=   2.5s\n",
            "[CV] n_estimators=5 ..................................................\n"
          ],
          "name": "stdout"
        },
        {
          "output_type": "stream",
          "text": [
            "[Parallel(n_jobs=1)]: Done   7 out of   7 | elapsed:   13.5s remaining:    0.0s\n"
          ],
          "name": "stderr"
        },
        {
          "output_type": "stream",
          "text": [
            "[CV] ...................... n_estimators=5, score=0.148, total=   2.5s\n",
            "[CV] n_estimators=5 ..................................................\n"
          ],
          "name": "stdout"
        },
        {
          "output_type": "stream",
          "text": [
            "[Parallel(n_jobs=1)]: Done   8 out of   8 | elapsed:   16.0s remaining:    0.0s\n"
          ],
          "name": "stderr"
        },
        {
          "output_type": "stream",
          "text": [
            "[CV] ...................... n_estimators=5, score=0.156, total=   2.3s\n",
            "[CV] n_estimators=5 ..................................................\n"
          ],
          "name": "stdout"
        },
        {
          "output_type": "stream",
          "text": [
            "[Parallel(n_jobs=1)]: Done   9 out of   9 | elapsed:   18.4s remaining:    0.0s\n"
          ],
          "name": "stderr"
        },
        {
          "output_type": "stream",
          "text": [
            "[CV] ...................... n_estimators=5, score=0.153, total=   2.3s\n",
            "[CV] n_estimators=10 .................................................\n",
            "[CV] ..................... n_estimators=10, score=0.184, total=   3.9s\n",
            "[CV] n_estimators=10 .................................................\n",
            "[CV] ..................... n_estimators=10, score=0.179, total=   3.9s\n",
            "[CV] n_estimators=10 .................................................\n",
            "[CV] ..................... n_estimators=10, score=0.175, total=   3.9s\n",
            "[CV] n_estimators=10 .................................................\n",
            "[CV] ..................... n_estimators=10, score=0.182, total=   4.1s\n",
            "[CV] n_estimators=10 .................................................\n",
            "[CV] ..................... n_estimators=10, score=0.181, total=   4.0s\n",
            "[CV] n_estimators=50 .................................................\n",
            "[CV] ..................... n_estimators=50, score=0.240, total=  16.4s\n",
            "[CV] n_estimators=50 .................................................\n",
            "[CV] ..................... n_estimators=50, score=0.238, total=  16.2s\n",
            "[CV] n_estimators=50 .................................................\n",
            "[CV] ..................... n_estimators=50, score=0.233, total=  16.2s\n",
            "[CV] n_estimators=50 .................................................\n",
            "[CV] ..................... n_estimators=50, score=0.238, total=  16.2s\n",
            "[CV] n_estimators=50 .................................................\n",
            "[CV] ..................... n_estimators=50, score=0.240, total=  16.2s\n",
            "[CV] n_estimators=100 ................................................\n",
            "[CV] .................... n_estimators=100, score=0.254, total=  30.9s\n",
            "[CV] n_estimators=100 ................................................\n",
            "[CV] .................... n_estimators=100, score=0.251, total=  31.3s\n",
            "[CV] n_estimators=100 ................................................\n",
            "[CV] .................... n_estimators=100, score=0.246, total=  31.1s\n",
            "[CV] n_estimators=100 ................................................\n",
            "[CV] .................... n_estimators=100, score=0.251, total=  31.0s\n",
            "[CV] n_estimators=100 ................................................\n",
            "[CV] .................... n_estimators=100, score=0.253, total=  31.1s\n",
            "[CV] n_estimators=200 ................................................\n",
            "[CV] .................... n_estimators=200, score=0.260, total= 1.1min\n",
            "[CV] n_estimators=200 ................................................\n",
            "[CV] .................... n_estimators=200, score=0.260, total= 1.1min\n",
            "[CV] n_estimators=200 ................................................\n",
            "[CV] .................... n_estimators=200, score=0.254, total= 1.1min\n",
            "[CV] n_estimators=200 ................................................\n",
            "[CV] .................... n_estimators=200, score=0.258, total= 1.2min\n",
            "[CV] n_estimators=200 ................................................\n",
            "[CV] .................... n_estimators=200, score=0.260, total= 1.2min\n"
          ],
          "name": "stdout"
        },
        {
          "output_type": "stream",
          "text": [
            "[Parallel(n_jobs=1)]: Done  30 out of  30 | elapsed: 10.5min finished\n"
          ],
          "name": "stderr"
        },
        {
          "output_type": "display_data",
          "data": {
            "image/png": "[encoded data removed]",
            "text/plain": [
              "<Figure size 432x288 with 1 Axes>"
            ]
          },
          "metadata": {
            "tags": [],
            "needs_background": "light"
          }
        },
        {
          "output_type": "stream",
          "text": [
            "CPU times: user 9min 17s, sys: 7min 13s, total: 16min 30s\n",
            "Wall time: 11min 55s\n"
          ],
          "name": "stdout"
        }
      ]
    },
    {
      "cell_type": "code",
      "metadata": {
        "id": "B--rH2yvOYJH",
        "outputId": "59eac3f9-826b-4a92-859c-7b5792fc90d8"
      },
      "source": [
        "print_gridCV(rf_srch)"
      ],
      "execution_count": null,
      "outputs": [
        {
          "output_type": "stream",
          "text": [
            "Grid scores on development set:\n",
            "\n",
            "0.082 (+/-0.009) for {'n_estimators': 1}\n",
            "0.154 (+/-0.007) for {'n_estimators': 5}\n",
            "0.180 (+/-0.006) for {'n_estimators': 10}\n",
            "0.238 (+/-0.005) for {'n_estimators': 50}\n",
            "0.251 (+/-0.005) for {'n_estimators': 100}\n",
            "0.258 (+/-0.005) for {'n_estimators': 200}\n",
            "\n"
          ],
          "name": "stdout"
        }
      ]
    },
    {
      "cell_type": "code",
      "metadata": {
        "id": "WsZvuFy8zqKK"
      },
      "source": [
        "# TODO weirdly... not training\n",
        "# xgb_rf = XGBRFClassifier(objective = 'multi:softmax',\n",
        "#                         tree_method = 'hist', #'gpu_hist' if gpu available\n",
        "#                         n_estimators=100,\n",
        "#                         n_jobs=-1,\n",
        "#                         #learning_rate=0.01,\n",
        "#                         min_child_weight = 3,\n",
        "#                         random_state = rstate,\n",
        "#                         silent=False)\n",
        "\n",
        "# xgb_rf.fit(X_train, y_train, \n",
        "#         early_stopping_rounds=20, \n",
        "#         eval_metric=xgb_map5, \n",
        "#         eval_set=[(X_train, y_train), (X_val, y_val)])\n",
        "# xgb_rf.get_booster().feature_names = feature_names"
      ],
      "execution_count": null,
      "outputs": []
    },
    {
      "cell_type": "markdown",
      "metadata": {
        "id": "tBfLtdJoObLT"
      },
      "source": [
        "## AdaBoost"
      ]
    },
    {
      "cell_type": "code",
      "metadata": {
        "colab": {
          "base_uri": "https://localhost:8080/",
          "height": 731
        },
        "id": "M_S3D2JhOdzt",
        "outputId": "00f5f067-cbe7-4128-dd64-89bc0c1a2290"
      },
      "source": [
        "%%time\n",
        "parameters = {'base_estimator' : [DecisionTreeClassifier(max_depth=1), DecisionTreeClassifier(max_depth=3)],\n",
        "             'n_estimators' : [1,5,10,50,100,150]}\n",
        "adb = AdaBoostClassifier(learning_rate = 0.1, random_state=rstate)\n",
        "adb_srch = GridSearchCV(adb, parameters, scoring = sk_map5, n_jobs = -1, verbose = v)\n",
        "plot_acc_stats(acc(adb_srch, X_std_train, y_train, X_std_test, y_test))"
      ],
      "execution_count": null,
      "outputs": [
        {
          "output_type": "stream",
          "text": [
            "Fitting 5 folds for each of 12 candidates, totalling 60 fits\n"
          ],
          "name": "stdout"
        },
        {
          "output_type": "stream",
          "text": [
            "[Parallel(n_jobs=-1)]: Using backend LokyBackend with 20 concurrent workers.\n",
            "[Parallel(n_jobs=-1)]: Done   1 tasks      | elapsed:    1.7s\n",
            "[Parallel(n_jobs=-1)]: Done  10 tasks      | elapsed:   20.6s\n",
            "[Parallel(n_jobs=-1)]: Done  21 tasks      | elapsed:  1.2min\n",
            "[Parallel(n_jobs=-1)]: Done  28 out of  60 | elapsed:  2.0min remaining:  2.3min\n",
            "[Parallel(n_jobs=-1)]: Done  35 out of  60 | elapsed:  2.9min remaining:  2.1min\n",
            "[Parallel(n_jobs=-1)]: Done  42 out of  60 | elapsed:  6.2min remaining:  2.7min\n",
            "[Parallel(n_jobs=-1)]: Done  49 out of  60 | elapsed:  8.0min remaining:  1.8min\n",
            "[Parallel(n_jobs=-1)]: Done  56 out of  60 | elapsed: 10.3min remaining:   43.9s\n",
            "[Parallel(n_jobs=-1)]: Done  60 out of  60 | elapsed: 10.5min finished\n"
          ],
          "name": "stderr"
        },
        {
          "output_type": "display_data",
          "data": {
            "image/png": "[encoded data removed]",
            "text/plain": [
              "<Figure size 432x288 with 1 Axes>"
            ]
          },
          "metadata": {
            "tags": [],
            "needs_background": "light"
          }
        },
        {
          "output_type": "stream",
          "text": [
            "CPU times: user 5.98 s, sys: 0 ns, total: 5.98 s\n",
            "Wall time: 10min 34s\n"
          ],
          "name": "stdout"
        }
      ]
    },
    {
      "cell_type": "code",
      "metadata": {
        "colab": {
          "base_uri": "https://localhost:8080/"
        },
        "id": "NEAbTeivOf4I",
        "outputId": "4a6a91bb-5918-4381-de3a-58193c8627f5"
      },
      "source": [
        "print_gridCV(adb_srch)"
      ],
      "execution_count": null,
      "outputs": [
        {
          "output_type": "stream",
          "text": [
            "Grid scores on development set:\n",
            "\n",
            "0.104 (+/-0.001) for {'base_estimator': DecisionTreeClassifier(max_depth=1), 'n_estimators': 1}\n",
            "0.104 (+/-0.001) for {'base_estimator': DecisionTreeClassifier(max_depth=1), 'n_estimators': 5}\n",
            "0.104 (+/-0.001) for {'base_estimator': DecisionTreeClassifier(max_depth=1), 'n_estimators': 10}\n",
            "0.113 (+/-0.003) for {'base_estimator': DecisionTreeClassifier(max_depth=1), 'n_estimators': 50}\n",
            "0.123 (+/-0.001) for {'base_estimator': DecisionTreeClassifier(max_depth=1), 'n_estimators': 100}\n",
            "0.125 (+/-0.007) for {'base_estimator': DecisionTreeClassifier(max_depth=1), 'n_estimators': 150}\n",
            "0.137 (+/-0.001) for {'base_estimator': DecisionTreeClassifier(max_depth=3), 'n_estimators': 1}\n",
            "0.140 (+/-0.003) for {'base_estimator': DecisionTreeClassifier(max_depth=3), 'n_estimators': 5}\n",
            "0.135 (+/-0.001) for {'base_estimator': DecisionTreeClassifier(max_depth=3), 'n_estimators': 10}\n",
            "0.134 (+/-0.004) for {'base_estimator': DecisionTreeClassifier(max_depth=3), 'n_estimators': 50}\n",
            "0.138 (+/-0.005) for {'base_estimator': DecisionTreeClassifier(max_depth=3), 'n_estimators': 100}\n",
            "0.139 (+/-0.006) for {'base_estimator': DecisionTreeClassifier(max_depth=3), 'n_estimators': 150}\n",
            "\n"
          ],
          "name": "stdout"
        }
      ]
    },
    {
      "cell_type": "markdown",
      "metadata": {
        "id": "wH6yUe-x2uuN"
      },
      "source": [
        "## Gradient Tree Boosting"
      ]
    },
    {
      "cell_type": "code",
      "metadata": {
        "colab": {
          "base_uri": "https://localhost:8080/",
          "height": 1000
        },
        "id": "FtVFm6Dj8Try",
        "outputId": "7db868b5-5101-4997-d7ad-ed67b503770f"
      },
      "source": [
        "%%time\n",
        "gbt = XGBClassifier(objective = 'multi:softmax',\n",
        "                        tree_method = 'hist', #'gpu_hist' if gpu available\n",
        "                        max_depth = 5, \n",
        "                        n_estimators=300,\n",
        "                        n_jobs=-1,\n",
        "                        #learning_rate=0.01, \n",
        "                        random_state=rstate,\n",
        "                        min_child_weight = 3,\n",
        "                        silent=False)\n",
        "\n",
        "gbt.fit(X_train, y_train, \n",
        "        early_stopping_rounds=20, \n",
        "        eval_metric=xgb_map5, \n",
        "        eval_set=[(X_train, y_train), (X_val, y_val)])\n",
        "\n",
        "plot_acc_stats(acc_stats(gbt, X_test=X_test, y_test=y_test))"
      ],
      "execution_count": null,
      "outputs": [
        {
          "output_type": "stream",
          "text": [
            "[19:56:59] WARNING: ../src/learner.cc:516: \n",
            "Parameters: { silent } might not be used.\n",
            "\n",
            "  This may not be accurate due to some parameters are only used in language bindings but\n",
            "  passed down to XGBoost core.  Or some parameters are not used but slip through this\n",
            "  verification. Please open an issue if you find above cases.\n",
            "\n",
            "\n",
            "[0]\tvalidation_0-merror:0.88198\tvalidation_1-merror:0.88846\tvalidation_0-MAP@5:-0.20284\tvalidation_1-MAP@5:-0.19224\n",
            "Multiple eval metrics have been passed: 'validation_1-MAP@5' will be used for early stopping.\n",
            "\n",
            "Will train until validation_1-MAP@5 hasn't improved in 20 rounds.\n",
            "[1]\tvalidation_0-merror:0.87412\tvalidation_1-merror:0.88085\tvalidation_0-MAP@5:-0.21546\tvalidation_1-MAP@5:-0.20289\n",
            "[2]\tvalidation_0-merror:0.87086\tvalidation_1-merror:0.87882\tvalidation_0-MAP@5:-0.22126\tvalidation_1-MAP@5:-0.20699\n",
            "[3]\tvalidation_0-merror:0.86818\tvalidation_1-merror:0.87832\tvalidation_0-MAP@5:-0.22531\tvalidation_1-MAP@5:-0.20882\n",
            "[4]\tvalidation_0-merror:0.86611\tvalidation_1-merror:0.87740\tvalidation_0-MAP@5:-0.22846\tvalidation_1-MAP@5:-0.21060\n",
            "[5]\tvalidation_0-merror:0.86395\tvalidation_1-merror:0.87587\tvalidation_0-MAP@5:-0.23171\tvalidation_1-MAP@5:-0.21266\n",
            "[6]\tvalidation_0-merror:0.86181\tvalidation_1-merror:0.87674\tvalidation_0-MAP@5:-0.23470\tvalidation_1-MAP@5:-0.21305\n",
            "[7]\tvalidation_0-merror:0.86009\tvalidation_1-merror:0.87603\tvalidation_0-MAP@5:-0.23732\tvalidation_1-MAP@5:-0.21449\n",
            "[8]\tvalidation_0-merror:0.85807\tvalidation_1-merror:0.87533\tvalidation_0-MAP@5:-0.24010\tvalidation_1-MAP@5:-0.21565\n",
            "[9]\tvalidation_0-merror:0.85605\tvalidation_1-merror:0.87495\tvalidation_0-MAP@5:-0.24270\tvalidation_1-MAP@5:-0.21655\n",
            "[10]\tvalidation_0-merror:0.85485\tvalidation_1-merror:0.87445\tvalidation_0-MAP@5:-0.24492\tvalidation_1-MAP@5:-0.21730\n",
            "[11]\tvalidation_0-merror:0.85294\tvalidation_1-merror:0.87329\tvalidation_0-MAP@5:-0.24702\tvalidation_1-MAP@5:-0.21891\n",
            "[12]\tvalidation_0-merror:0.85183\tvalidation_1-merror:0.87271\tvalidation_0-MAP@5:-0.24882\tvalidation_1-MAP@5:-0.21977\n",
            "[13]\tvalidation_0-merror:0.85050\tvalidation_1-merror:0.87175\tvalidation_0-MAP@5:-0.25074\tvalidation_1-MAP@5:-0.22075\n",
            "[14]\tvalidation_0-merror:0.84903\tvalidation_1-merror:0.87175\tvalidation_0-MAP@5:-0.25265\tvalidation_1-MAP@5:-0.22112\n",
            "[15]\tvalidation_0-merror:0.84736\tvalidation_1-merror:0.87126\tvalidation_0-MAP@5:-0.25462\tvalidation_1-MAP@5:-0.22187\n",
            "[16]\tvalidation_0-merror:0.84590\tvalidation_1-merror:0.87071\tvalidation_0-MAP@5:-0.25667\tvalidation_1-MAP@5:-0.22217\n",
            "[17]\tvalidation_0-merror:0.84384\tvalidation_1-merror:0.86988\tvalidation_0-MAP@5:-0.25916\tvalidation_1-MAP@5:-0.22341\n",
            "[18]\tvalidation_0-merror:0.84238\tvalidation_1-merror:0.86880\tvalidation_0-MAP@5:-0.26120\tvalidation_1-MAP@5:-0.22456\n",
            "[19]\tvalidation_0-merror:0.84044\tvalidation_1-merror:0.86835\tvalidation_0-MAP@5:-0.26365\tvalidation_1-MAP@5:-0.22500\n",
            "[20]\tvalidation_0-merror:0.83927\tvalidation_1-merror:0.86760\tvalidation_0-MAP@5:-0.26528\tvalidation_1-MAP@5:-0.22592\n",
            "[21]\tvalidation_0-merror:0.83765\tvalidation_1-merror:0.86668\tvalidation_0-MAP@5:-0.26721\tvalidation_1-MAP@5:-0.22647\n",
            "[22]\tvalidation_0-merror:0.83587\tvalidation_1-merror:0.86643\tvalidation_0-MAP@5:-0.26973\tvalidation_1-MAP@5:-0.22745\n",
            "[23]\tvalidation_0-merror:0.83392\tvalidation_1-merror:0.86552\tvalidation_0-MAP@5:-0.27199\tvalidation_1-MAP@5:-0.22817\n",
            "[24]\tvalidation_0-merror:0.83222\tvalidation_1-merror:0.86585\tvalidation_0-MAP@5:-0.27417\tvalidation_1-MAP@5:-0.22835\n",
            "[25]\tvalidation_0-merror:0.83082\tvalidation_1-merror:0.86560\tvalidation_0-MAP@5:-0.27611\tvalidation_1-MAP@5:-0.22882\n",
            "[26]\tvalidation_0-merror:0.82921\tvalidation_1-merror:0.86560\tvalidation_0-MAP@5:-0.27815\tvalidation_1-MAP@5:-0.22925\n",
            "[27]\tvalidation_0-merror:0.82745\tvalidation_1-merror:0.86465\tvalidation_0-MAP@5:-0.28042\tvalidation_1-MAP@5:-0.23016\n",
            "[28]\tvalidation_0-merror:0.82549\tvalidation_1-merror:0.86402\tvalidation_0-MAP@5:-0.28251\tvalidation_1-MAP@5:-0.23070\n",
            "[29]\tvalidation_0-merror:0.82427\tvalidation_1-merror:0.86423\tvalidation_0-MAP@5:-0.28431\tvalidation_1-MAP@5:-0.23070\n",
            "[30]\tvalidation_0-merror:0.82233\tvalidation_1-merror:0.86332\tvalidation_0-MAP@5:-0.28665\tvalidation_1-MAP@5:-0.23145\n",
            "[31]\tvalidation_0-merror:0.82056\tvalidation_1-merror:0.86294\tvalidation_0-MAP@5:-0.28874\tvalidation_1-MAP@5:-0.23205\n",
            "[32]\tvalidation_0-merror:0.81874\tvalidation_1-merror:0.86244\tvalidation_0-MAP@5:-0.29094\tvalidation_1-MAP@5:-0.23275\n",
            "[33]\tvalidation_0-merror:0.81677\tvalidation_1-merror:0.86257\tvalidation_0-MAP@5:-0.29317\tvalidation_1-MAP@5:-0.23301\n",
            "[34]\tvalidation_0-merror:0.81523\tvalidation_1-merror:0.86174\tvalidation_0-MAP@5:-0.29494\tvalidation_1-MAP@5:-0.23355\n",
            "[35]\tvalidation_0-merror:0.81377\tvalidation_1-merror:0.86170\tvalidation_0-MAP@5:-0.29668\tvalidation_1-MAP@5:-0.23406\n",
            "[36]\tvalidation_0-merror:0.81243\tvalidation_1-merror:0.86174\tvalidation_0-MAP@5:-0.29835\tvalidation_1-MAP@5:-0.23419\n",
            "[37]\tvalidation_0-merror:0.81091\tvalidation_1-merror:0.86186\tvalidation_0-MAP@5:-0.30013\tvalidation_1-MAP@5:-0.23419\n",
            "[38]\tvalidation_0-merror:0.80900\tvalidation_1-merror:0.86170\tvalidation_0-MAP@5:-0.30215\tvalidation_1-MAP@5:-0.23425\n",
            "[39]\tvalidation_0-merror:0.80736\tvalidation_1-merror:0.86120\tvalidation_0-MAP@5:-0.30418\tvalidation_1-MAP@5:-0.23489\n",
            "[40]\tvalidation_0-merror:0.80566\tvalidation_1-merror:0.86107\tvalidation_0-MAP@5:-0.30611\tvalidation_1-MAP@5:-0.23516\n",
            "[41]\tvalidation_0-merror:0.80414\tvalidation_1-merror:0.86099\tvalidation_0-MAP@5:-0.30803\tvalidation_1-MAP@5:-0.23545\n",
            "[42]\tvalidation_0-merror:0.80245\tvalidation_1-merror:0.86099\tvalidation_0-MAP@5:-0.31003\tvalidation_1-MAP@5:-0.23596\n",
            "[43]\tvalidation_0-merror:0.80086\tvalidation_1-merror:0.85958\tvalidation_0-MAP@5:-0.31183\tvalidation_1-MAP@5:-0.23667\n",
            "[44]\tvalidation_0-merror:0.79930\tvalidation_1-merror:0.86003\tvalidation_0-MAP@5:-0.31361\tvalidation_1-MAP@5:-0.23661\n",
            "[45]\tvalidation_0-merror:0.79728\tvalidation_1-merror:0.85991\tvalidation_0-MAP@5:-0.31576\tvalidation_1-MAP@5:-0.23684\n",
            "[46]\tvalidation_0-merror:0.79579\tvalidation_1-merror:0.85937\tvalidation_0-MAP@5:-0.31752\tvalidation_1-MAP@5:-0.23723\n",
            "[47]\tvalidation_0-merror:0.79407\tvalidation_1-merror:0.85862\tvalidation_0-MAP@5:-0.31951\tvalidation_1-MAP@5:-0.23802\n",
            "[48]\tvalidation_0-merror:0.79222\tvalidation_1-merror:0.85862\tvalidation_0-MAP@5:-0.32170\tvalidation_1-MAP@5:-0.23796\n",
            "[49]\tvalidation_0-merror:0.79063\tvalidation_1-merror:0.85879\tvalidation_0-MAP@5:-0.32345\tvalidation_1-MAP@5:-0.23792\n",
            "[50]\tvalidation_0-merror:0.78911\tvalidation_1-merror:0.85870\tvalidation_0-MAP@5:-0.32513\tvalidation_1-MAP@5:-0.23812\n",
            "[51]\tvalidation_0-merror:0.78752\tvalidation_1-merror:0.85845\tvalidation_0-MAP@5:-0.32691\tvalidation_1-MAP@5:-0.23829\n",
            "[52]\tvalidation_0-merror:0.78537\tvalidation_1-merror:0.85833\tvalidation_0-MAP@5:-0.32909\tvalidation_1-MAP@5:-0.23824\n",
            "[53]\tvalidation_0-merror:0.78400\tvalidation_1-merror:0.85812\tvalidation_0-MAP@5:-0.33076\tvalidation_1-MAP@5:-0.23848\n",
            "[54]\tvalidation_0-merror:0.78266\tvalidation_1-merror:0.85804\tvalidation_0-MAP@5:-0.33237\tvalidation_1-MAP@5:-0.23864\n",
            "[55]\tvalidation_0-merror:0.78111\tvalidation_1-merror:0.85783\tvalidation_0-MAP@5:-0.33413\tvalidation_1-MAP@5:-0.23881\n",
            "[56]\tvalidation_0-merror:0.77948\tvalidation_1-merror:0.85779\tvalidation_0-MAP@5:-0.33586\tvalidation_1-MAP@5:-0.23905\n",
            "[57]\tvalidation_0-merror:0.77795\tvalidation_1-merror:0.85762\tvalidation_0-MAP@5:-0.33770\tvalidation_1-MAP@5:-0.23944\n",
            "[58]\tvalidation_0-merror:0.77615\tvalidation_1-merror:0.85754\tvalidation_0-MAP@5:-0.33955\tvalidation_1-MAP@5:-0.23944\n",
            "[59]\tvalidation_0-merror:0.77474\tvalidation_1-merror:0.85804\tvalidation_0-MAP@5:-0.34114\tvalidation_1-MAP@5:-0.23933\n",
            "[60]\tvalidation_0-merror:0.77324\tvalidation_1-merror:0.85837\tvalidation_0-MAP@5:-0.34272\tvalidation_1-MAP@5:-0.23953\n",
            "[61]\tvalidation_0-merror:0.77169\tvalidation_1-merror:0.85783\tvalidation_0-MAP@5:-0.34432\tvalidation_1-MAP@5:-0.23981\n",
            "[62]\tvalidation_0-merror:0.77042\tvalidation_1-merror:0.85841\tvalidation_0-MAP@5:-0.34584\tvalidation_1-MAP@5:-0.23941\n",
            "[63]\tvalidation_0-merror:0.76845\tvalidation_1-merror:0.85895\tvalidation_0-MAP@5:-0.34779\tvalidation_1-MAP@5:-0.23937\n",
            "[64]\tvalidation_0-merror:0.76657\tvalidation_1-merror:0.85908\tvalidation_0-MAP@5:-0.34979\tvalidation_1-MAP@5:-0.23963\n",
            "[65]\tvalidation_0-merror:0.76493\tvalidation_1-merror:0.85883\tvalidation_0-MAP@5:-0.35154\tvalidation_1-MAP@5:-0.23996\n"
          ],
          "name": "stdout"
        },
        {
          "output_type": "stream",
          "text": [
            "[66]\tvalidation_0-merror:0.76345\tvalidation_1-merror:0.85883\tvalidation_0-MAP@5:-0.35313\tvalidation_1-MAP@5:-0.24002\n",
            "[67]\tvalidation_0-merror:0.76172\tvalidation_1-merror:0.85862\tvalidation_0-MAP@5:-0.35507\tvalidation_1-MAP@5:-0.24022\n",
            "[68]\tvalidation_0-merror:0.75979\tvalidation_1-merror:0.85771\tvalidation_0-MAP@5:-0.35692\tvalidation_1-MAP@5:-0.24111\n",
            "[69]\tvalidation_0-merror:0.75817\tvalidation_1-merror:0.85758\tvalidation_0-MAP@5:-0.35876\tvalidation_1-MAP@5:-0.24133\n",
            "[70]\tvalidation_0-merror:0.75669\tvalidation_1-merror:0.85750\tvalidation_0-MAP@5:-0.36042\tvalidation_1-MAP@5:-0.24138\n",
            "[71]\tvalidation_0-merror:0.75499\tvalidation_1-merror:0.85767\tvalidation_0-MAP@5:-0.36204\tvalidation_1-MAP@5:-0.24137\n",
            "[72]\tvalidation_0-merror:0.75327\tvalidation_1-merror:0.85721\tvalidation_0-MAP@5:-0.36393\tvalidation_1-MAP@5:-0.24165\n",
            "[73]\tvalidation_0-merror:0.75159\tvalidation_1-merror:0.85717\tvalidation_0-MAP@5:-0.36557\tvalidation_1-MAP@5:-0.24182\n",
            "[74]\tvalidation_0-merror:0.75033\tvalidation_1-merror:0.85721\tvalidation_0-MAP@5:-0.36707\tvalidation_1-MAP@5:-0.24207\n",
            "[75]\tvalidation_0-merror:0.74889\tvalidation_1-merror:0.85725\tvalidation_0-MAP@5:-0.36875\tvalidation_1-MAP@5:-0.24181\n",
            "[76]\tvalidation_0-merror:0.74714\tvalidation_1-merror:0.85609\tvalidation_0-MAP@5:-0.37049\tvalidation_1-MAP@5:-0.24233\n",
            "[77]\tvalidation_0-merror:0.74530\tvalidation_1-merror:0.85571\tvalidation_0-MAP@5:-0.37229\tvalidation_1-MAP@5:-0.24275\n",
            "[78]\tvalidation_0-merror:0.74358\tvalidation_1-merror:0.85625\tvalidation_0-MAP@5:-0.37409\tvalidation_1-MAP@5:-0.24254\n",
            "[79]\tvalidation_0-merror:0.74174\tvalidation_1-merror:0.85596\tvalidation_0-MAP@5:-0.37589\tvalidation_1-MAP@5:-0.24282\n",
            "[80]\tvalidation_0-merror:0.74002\tvalidation_1-merror:0.85584\tvalidation_0-MAP@5:-0.37758\tvalidation_1-MAP@5:-0.24291\n",
            "[81]\tvalidation_0-merror:0.73865\tvalidation_1-merror:0.85650\tvalidation_0-MAP@5:-0.37921\tvalidation_1-MAP@5:-0.24254\n",
            "[82]\tvalidation_0-merror:0.73721\tvalidation_1-merror:0.85600\tvalidation_0-MAP@5:-0.38083\tvalidation_1-MAP@5:-0.24303\n",
            "[83]\tvalidation_0-merror:0.73562\tvalidation_1-merror:0.85567\tvalidation_0-MAP@5:-0.38259\tvalidation_1-MAP@5:-0.24312\n",
            "[84]\tvalidation_0-merror:0.73370\tvalidation_1-merror:0.85596\tvalidation_0-MAP@5:-0.38450\tvalidation_1-MAP@5:-0.24318\n",
            "[85]\tvalidation_0-merror:0.73222\tvalidation_1-merror:0.85534\tvalidation_0-MAP@5:-0.38611\tvalidation_1-MAP@5:-0.24363\n",
            "[86]\tvalidation_0-merror:0.73040\tvalidation_1-merror:0.85534\tvalidation_0-MAP@5:-0.38788\tvalidation_1-MAP@5:-0.24362\n",
            "[87]\tvalidation_0-merror:0.72892\tvalidation_1-merror:0.85496\tvalidation_0-MAP@5:-0.38944\tvalidation_1-MAP@5:-0.24379\n",
            "[88]\tvalidation_0-merror:0.72755\tvalidation_1-merror:0.85513\tvalidation_0-MAP@5:-0.39104\tvalidation_1-MAP@5:-0.24364\n",
            "[89]\tvalidation_0-merror:0.72607\tvalidation_1-merror:0.85517\tvalidation_0-MAP@5:-0.39262\tvalidation_1-MAP@5:-0.24349\n",
            "[90]\tvalidation_0-merror:0.72431\tvalidation_1-merror:0.85488\tvalidation_0-MAP@5:-0.39437\tvalidation_1-MAP@5:-0.24375\n",
            "[91]\tvalidation_0-merror:0.72261\tvalidation_1-merror:0.85417\tvalidation_0-MAP@5:-0.39609\tvalidation_1-MAP@5:-0.24426\n",
            "[92]\tvalidation_0-merror:0.72086\tvalidation_1-merror:0.85355\tvalidation_0-MAP@5:-0.39780\tvalidation_1-MAP@5:-0.24496\n",
            "[93]\tvalidation_0-merror:0.71913\tvalidation_1-merror:0.85442\tvalidation_0-MAP@5:-0.39955\tvalidation_1-MAP@5:-0.24470\n",
            "[94]\tvalidation_0-merror:0.71741\tvalidation_1-merror:0.85430\tvalidation_0-MAP@5:-0.40130\tvalidation_1-MAP@5:-0.24481\n",
            "[95]\tvalidation_0-merror:0.71557\tvalidation_1-merror:0.85438\tvalidation_0-MAP@5:-0.40314\tvalidation_1-MAP@5:-0.24482\n",
            "[96]\tvalidation_0-merror:0.71377\tvalidation_1-merror:0.85438\tvalidation_0-MAP@5:-0.40493\tvalidation_1-MAP@5:-0.24485\n",
            "[97]\tvalidation_0-merror:0.71214\tvalidation_1-merror:0.85376\tvalidation_0-MAP@5:-0.40655\tvalidation_1-MAP@5:-0.24519\n",
            "[98]\tvalidation_0-merror:0.71071\tvalidation_1-merror:0.85309\tvalidation_0-MAP@5:-0.40800\tvalidation_1-MAP@5:-0.24552\n",
            "[99]\tvalidation_0-merror:0.70944\tvalidation_1-merror:0.85305\tvalidation_0-MAP@5:-0.40952\tvalidation_1-MAP@5:-0.24548\n",
            "[100]\tvalidation_0-merror:0.70780\tvalidation_1-merror:0.85251\tvalidation_0-MAP@5:-0.41124\tvalidation_1-MAP@5:-0.24616\n",
            "[101]\tvalidation_0-merror:0.70603\tvalidation_1-merror:0.85297\tvalidation_0-MAP@5:-0.41286\tvalidation_1-MAP@5:-0.24601\n",
            "[102]\tvalidation_0-merror:0.70465\tvalidation_1-merror:0.85272\tvalidation_0-MAP@5:-0.41428\tvalidation_1-MAP@5:-0.24626\n",
            "[103]\tvalidation_0-merror:0.70326\tvalidation_1-merror:0.85247\tvalidation_0-MAP@5:-0.41574\tvalidation_1-MAP@5:-0.24625\n",
            "[104]\tvalidation_0-merror:0.70183\tvalidation_1-merror:0.85297\tvalidation_0-MAP@5:-0.41729\tvalidation_1-MAP@5:-0.24622\n",
            "[105]\tvalidation_0-merror:0.70025\tvalidation_1-merror:0.85309\tvalidation_0-MAP@5:-0.41881\tvalidation_1-MAP@5:-0.24623\n",
            "[106]\tvalidation_0-merror:0.69861\tvalidation_1-merror:0.85347\tvalidation_0-MAP@5:-0.42044\tvalidation_1-MAP@5:-0.24596\n",
            "[107]\tvalidation_0-merror:0.69715\tvalidation_1-merror:0.85305\tvalidation_0-MAP@5:-0.42205\tvalidation_1-MAP@5:-0.24642\n",
            "[108]\tvalidation_0-merror:0.69542\tvalidation_1-merror:0.85334\tvalidation_0-MAP@5:-0.42378\tvalidation_1-MAP@5:-0.24614\n",
            "[109]\tvalidation_0-merror:0.69373\tvalidation_1-merror:0.85264\tvalidation_0-MAP@5:-0.42537\tvalidation_1-MAP@5:-0.24672\n",
            "[110]\tvalidation_0-merror:0.69210\tvalidation_1-merror:0.85284\tvalidation_0-MAP@5:-0.42686\tvalidation_1-MAP@5:-0.24645\n",
            "[111]\tvalidation_0-merror:0.69088\tvalidation_1-merror:0.85318\tvalidation_0-MAP@5:-0.42834\tvalidation_1-MAP@5:-0.24643\n",
            "[112]\tvalidation_0-merror:0.68933\tvalidation_1-merror:0.85326\tvalidation_0-MAP@5:-0.42981\tvalidation_1-MAP@5:-0.24632\n",
            "[113]\tvalidation_0-merror:0.68799\tvalidation_1-merror:0.85264\tvalidation_0-MAP@5:-0.43124\tvalidation_1-MAP@5:-0.24682\n",
            "[114]\tvalidation_0-merror:0.68632\tvalidation_1-merror:0.85259\tvalidation_0-MAP@5:-0.43278\tvalidation_1-MAP@5:-0.24673\n",
            "[115]\tvalidation_0-merror:0.68500\tvalidation_1-merror:0.85251\tvalidation_0-MAP@5:-0.43416\tvalidation_1-MAP@5:-0.24690\n",
            "[116]\tvalidation_0-merror:0.68321\tvalidation_1-merror:0.85181\tvalidation_0-MAP@5:-0.43584\tvalidation_1-MAP@5:-0.24726\n",
            "[117]\tvalidation_0-merror:0.68168\tvalidation_1-merror:0.85106\tvalidation_0-MAP@5:-0.43739\tvalidation_1-MAP@5:-0.24754\n",
            "[118]\tvalidation_0-merror:0.68012\tvalidation_1-merror:0.85060\tvalidation_0-MAP@5:-0.43892\tvalidation_1-MAP@5:-0.24782\n",
            "[119]\tvalidation_0-merror:0.67832\tvalidation_1-merror:0.85031\tvalidation_0-MAP@5:-0.44055\tvalidation_1-MAP@5:-0.24788\n",
            "[120]\tvalidation_0-merror:0.67659\tvalidation_1-merror:0.85031\tvalidation_0-MAP@5:-0.44216\tvalidation_1-MAP@5:-0.24810\n",
            "[121]\tvalidation_0-merror:0.67523\tvalidation_1-merror:0.85089\tvalidation_0-MAP@5:-0.44357\tvalidation_1-MAP@5:-0.24798\n",
            "[122]\tvalidation_0-merror:0.67341\tvalidation_1-merror:0.85081\tvalidation_0-MAP@5:-0.44527\tvalidation_1-MAP@5:-0.24788\n",
            "[123]\tvalidation_0-merror:0.67197\tvalidation_1-merror:0.85072\tvalidation_0-MAP@5:-0.44674\tvalidation_1-MAP@5:-0.24799\n",
            "[124]\tvalidation_0-merror:0.67043\tvalidation_1-merror:0.85085\tvalidation_0-MAP@5:-0.44823\tvalidation_1-MAP@5:-0.24781\n",
            "[125]\tvalidation_0-merror:0.66882\tvalidation_1-merror:0.84998\tvalidation_0-MAP@5:-0.44979\tvalidation_1-MAP@5:-0.24829\n",
            "[126]\tvalidation_0-merror:0.66739\tvalidation_1-merror:0.84960\tvalidation_0-MAP@5:-0.45116\tvalidation_1-MAP@5:-0.24855\n",
            "[127]\tvalidation_0-merror:0.66603\tvalidation_1-merror:0.85031\tvalidation_0-MAP@5:-0.45247\tvalidation_1-MAP@5:-0.24826\n",
            "[128]\tvalidation_0-merror:0.66498\tvalidation_1-merror:0.85085\tvalidation_0-MAP@5:-0.45369\tvalidation_1-MAP@5:-0.24812\n",
            "[129]\tvalidation_0-merror:0.66354\tvalidation_1-merror:0.85110\tvalidation_0-MAP@5:-0.45518\tvalidation_1-MAP@5:-0.24797\n",
            "[130]\tvalidation_0-merror:0.66204\tvalidation_1-merror:0.85089\tvalidation_0-MAP@5:-0.45658\tvalidation_1-MAP@5:-0.24800\n",
            "[131]\tvalidation_0-merror:0.66058\tvalidation_1-merror:0.85085\tvalidation_0-MAP@5:-0.45807\tvalidation_1-MAP@5:-0.24813\n",
            "[132]\tvalidation_0-merror:0.65898\tvalidation_1-merror:0.85143\tvalidation_0-MAP@5:-0.45958\tvalidation_1-MAP@5:-0.24806\n",
            "[133]\tvalidation_0-merror:0.65757\tvalidation_1-merror:0.85102\tvalidation_0-MAP@5:-0.46095\tvalidation_1-MAP@5:-0.24822\n",
            "[134]\tvalidation_0-merror:0.65581\tvalidation_1-merror:0.85152\tvalidation_0-MAP@5:-0.46256\tvalidation_1-MAP@5:-0.24823\n",
            "[135]\tvalidation_0-merror:0.65456\tvalidation_1-merror:0.85122\tvalidation_0-MAP@5:-0.46384\tvalidation_1-MAP@5:-0.24809\n"
          ],
          "name": "stdout"
        },
        {
          "output_type": "stream",
          "text": [
            "[136]\tvalidation_0-merror:0.65300\tvalidation_1-merror:0.85031\tvalidation_0-MAP@5:-0.46543\tvalidation_1-MAP@5:-0.24868\n",
            "[137]\tvalidation_0-merror:0.65138\tvalidation_1-merror:0.84998\tvalidation_0-MAP@5:-0.46703\tvalidation_1-MAP@5:-0.24872\n",
            "[138]\tvalidation_0-merror:0.64998\tvalidation_1-merror:0.85014\tvalidation_0-MAP@5:-0.46845\tvalidation_1-MAP@5:-0.24857\n",
            "[139]\tvalidation_0-merror:0.64847\tvalidation_1-merror:0.85056\tvalidation_0-MAP@5:-0.47001\tvalidation_1-MAP@5:-0.24830\n",
            "[140]\tvalidation_0-merror:0.64699\tvalidation_1-merror:0.85068\tvalidation_0-MAP@5:-0.47142\tvalidation_1-MAP@5:-0.24831\n",
            "[141]\tvalidation_0-merror:0.64531\tvalidation_1-merror:0.85060\tvalidation_0-MAP@5:-0.47295\tvalidation_1-MAP@5:-0.24854\n",
            "[142]\tvalidation_0-merror:0.64377\tvalidation_1-merror:0.85077\tvalidation_0-MAP@5:-0.47437\tvalidation_1-MAP@5:-0.24851\n",
            "[143]\tvalidation_0-merror:0.64227\tvalidation_1-merror:0.85064\tvalidation_0-MAP@5:-0.47585\tvalidation_1-MAP@5:-0.24853\n",
            "[144]\tvalidation_0-merror:0.64097\tvalidation_1-merror:0.85089\tvalidation_0-MAP@5:-0.47718\tvalidation_1-MAP@5:-0.24821\n",
            "[145]\tvalidation_0-merror:0.63959\tvalidation_1-merror:0.85006\tvalidation_0-MAP@5:-0.47872\tvalidation_1-MAP@5:-0.24861\n",
            "[146]\tvalidation_0-merror:0.63808\tvalidation_1-merror:0.85023\tvalidation_0-MAP@5:-0.48009\tvalidation_1-MAP@5:-0.24858\n",
            "[147]\tvalidation_0-merror:0.63665\tvalidation_1-merror:0.85039\tvalidation_0-MAP@5:-0.48146\tvalidation_1-MAP@5:-0.24865\n",
            "[148]\tvalidation_0-merror:0.63556\tvalidation_1-merror:0.85010\tvalidation_0-MAP@5:-0.48260\tvalidation_1-MAP@5:-0.24894\n",
            "[149]\tvalidation_0-merror:0.63396\tvalidation_1-merror:0.84981\tvalidation_0-MAP@5:-0.48411\tvalidation_1-MAP@5:-0.24915\n",
            "[150]\tvalidation_0-merror:0.63263\tvalidation_1-merror:0.85018\tvalidation_0-MAP@5:-0.48540\tvalidation_1-MAP@5:-0.24893\n",
            "[151]\tvalidation_0-merror:0.63130\tvalidation_1-merror:0.85031\tvalidation_0-MAP@5:-0.48660\tvalidation_1-MAP@5:-0.24883\n",
            "[152]\tvalidation_0-merror:0.62983\tvalidation_1-merror:0.85043\tvalidation_0-MAP@5:-0.48806\tvalidation_1-MAP@5:-0.24909\n",
            "[153]\tvalidation_0-merror:0.62850\tvalidation_1-merror:0.84973\tvalidation_0-MAP@5:-0.48934\tvalidation_1-MAP@5:-0.24933\n",
            "[154]\tvalidation_0-merror:0.62714\tvalidation_1-merror:0.84919\tvalidation_0-MAP@5:-0.49061\tvalidation_1-MAP@5:-0.24975\n",
            "[155]\tvalidation_0-merror:0.62592\tvalidation_1-merror:0.84886\tvalidation_0-MAP@5:-0.49186\tvalidation_1-MAP@5:-0.24981\n",
            "[156]\tvalidation_0-merror:0.62405\tvalidation_1-merror:0.84910\tvalidation_0-MAP@5:-0.49340\tvalidation_1-MAP@5:-0.24975\n",
            "[157]\tvalidation_0-merror:0.62276\tvalidation_1-merror:0.84927\tvalidation_0-MAP@5:-0.49468\tvalidation_1-MAP@5:-0.24973\n",
            "[158]\tvalidation_0-merror:0.62130\tvalidation_1-merror:0.84956\tvalidation_0-MAP@5:-0.49600\tvalidation_1-MAP@5:-0.24947\n",
            "[159]\tvalidation_0-merror:0.62012\tvalidation_1-merror:0.84902\tvalidation_0-MAP@5:-0.49715\tvalidation_1-MAP@5:-0.24980\n",
            "[160]\tvalidation_0-merror:0.61883\tvalidation_1-merror:0.84915\tvalidation_0-MAP@5:-0.49844\tvalidation_1-MAP@5:-0.24976\n",
            "[161]\tvalidation_0-merror:0.61728\tvalidation_1-merror:0.84940\tvalidation_0-MAP@5:-0.49979\tvalidation_1-MAP@5:-0.24989\n",
            "[162]\tvalidation_0-merror:0.61617\tvalidation_1-merror:0.84919\tvalidation_0-MAP@5:-0.50096\tvalidation_1-MAP@5:-0.24993\n",
            "[163]\tvalidation_0-merror:0.61474\tvalidation_1-merror:0.84894\tvalidation_0-MAP@5:-0.50243\tvalidation_1-MAP@5:-0.25002\n",
            "[164]\tvalidation_0-merror:0.61319\tvalidation_1-merror:0.84881\tvalidation_0-MAP@5:-0.50383\tvalidation_1-MAP@5:-0.25007\n",
            "[165]\tvalidation_0-merror:0.61195\tvalidation_1-merror:0.84952\tvalidation_0-MAP@5:-0.50505\tvalidation_1-MAP@5:-0.24972\n",
            "[166]\tvalidation_0-merror:0.61091\tvalidation_1-merror:0.84865\tvalidation_0-MAP@5:-0.50613\tvalidation_1-MAP@5:-0.25012\n",
            "[167]\tvalidation_0-merror:0.60946\tvalidation_1-merror:0.84836\tvalidation_0-MAP@5:-0.50755\tvalidation_1-MAP@5:-0.25038\n",
            "[168]\tvalidation_0-merror:0.60788\tvalidation_1-merror:0.84844\tvalidation_0-MAP@5:-0.50896\tvalidation_1-MAP@5:-0.25053\n",
            "[169]\tvalidation_0-merror:0.60634\tvalidation_1-merror:0.84844\tvalidation_0-MAP@5:-0.51023\tvalidation_1-MAP@5:-0.25062\n",
            "[170]\tvalidation_0-merror:0.60503\tvalidation_1-merror:0.84815\tvalidation_0-MAP@5:-0.51160\tvalidation_1-MAP@5:-0.25063\n",
            "[171]\tvalidation_0-merror:0.60379\tvalidation_1-merror:0.84773\tvalidation_0-MAP@5:-0.51286\tvalidation_1-MAP@5:-0.25102\n",
            "[172]\tvalidation_0-merror:0.60236\tvalidation_1-merror:0.84719\tvalidation_0-MAP@5:-0.51426\tvalidation_1-MAP@5:-0.25143\n",
            "[173]\tvalidation_0-merror:0.60113\tvalidation_1-merror:0.84707\tvalidation_0-MAP@5:-0.51542\tvalidation_1-MAP@5:-0.25159\n",
            "[174]\tvalidation_0-merror:0.59953\tvalidation_1-merror:0.84678\tvalidation_0-MAP@5:-0.51688\tvalidation_1-MAP@5:-0.25167\n",
            "[175]\tvalidation_0-merror:0.59820\tvalidation_1-merror:0.84678\tvalidation_0-MAP@5:-0.51812\tvalidation_1-MAP@5:-0.25169\n",
            "[176]\tvalidation_0-merror:0.59707\tvalidation_1-merror:0.84674\tvalidation_0-MAP@5:-0.51929\tvalidation_1-MAP@5:-0.25167\n",
            "[177]\tvalidation_0-merror:0.59586\tvalidation_1-merror:0.84694\tvalidation_0-MAP@5:-0.52043\tvalidation_1-MAP@5:-0.25171\n",
            "[178]\tvalidation_0-merror:0.59465\tvalidation_1-merror:0.84715\tvalidation_0-MAP@5:-0.52163\tvalidation_1-MAP@5:-0.25147\n",
            "[179]\tvalidation_0-merror:0.59315\tvalidation_1-merror:0.84640\tvalidation_0-MAP@5:-0.52304\tvalidation_1-MAP@5:-0.25203\n",
            "[180]\tvalidation_0-merror:0.59177\tvalidation_1-merror:0.84578\tvalidation_0-MAP@5:-0.52429\tvalidation_1-MAP@5:-0.25233\n",
            "[181]\tvalidation_0-merror:0.59045\tvalidation_1-merror:0.84624\tvalidation_0-MAP@5:-0.52556\tvalidation_1-MAP@5:-0.25195\n",
            "[182]\tvalidation_0-merror:0.58910\tvalidation_1-merror:0.84624\tvalidation_0-MAP@5:-0.52686\tvalidation_1-MAP@5:-0.25196\n",
            "[183]\tvalidation_0-merror:0.58760\tvalidation_1-merror:0.84632\tvalidation_0-MAP@5:-0.52815\tvalidation_1-MAP@5:-0.25189\n",
            "[184]\tvalidation_0-merror:0.58631\tvalidation_1-merror:0.84595\tvalidation_0-MAP@5:-0.52936\tvalidation_1-MAP@5:-0.25212\n",
            "[185]\tvalidation_0-merror:0.58523\tvalidation_1-merror:0.84632\tvalidation_0-MAP@5:-0.53041\tvalidation_1-MAP@5:-0.25197\n",
            "[186]\tvalidation_0-merror:0.58366\tvalidation_1-merror:0.84582\tvalidation_0-MAP@5:-0.53175\tvalidation_1-MAP@5:-0.25217\n",
            "[187]\tvalidation_0-merror:0.58221\tvalidation_1-merror:0.84632\tvalidation_0-MAP@5:-0.53309\tvalidation_1-MAP@5:-0.25181\n",
            "[188]\tvalidation_0-merror:0.58064\tvalidation_1-merror:0.84615\tvalidation_0-MAP@5:-0.53446\tvalidation_1-MAP@5:-0.25222\n",
            "[189]\tvalidation_0-merror:0.57944\tvalidation_1-merror:0.84649\tvalidation_0-MAP@5:-0.53566\tvalidation_1-MAP@5:-0.25175\n",
            "[190]\tvalidation_0-merror:0.57806\tvalidation_1-merror:0.84578\tvalidation_0-MAP@5:-0.53703\tvalidation_1-MAP@5:-0.25214\n",
            "[191]\tvalidation_0-merror:0.57691\tvalidation_1-merror:0.84570\tvalidation_0-MAP@5:-0.53809\tvalidation_1-MAP@5:-0.25210\n",
            "[192]\tvalidation_0-merror:0.57582\tvalidation_1-merror:0.84586\tvalidation_0-MAP@5:-0.53921\tvalidation_1-MAP@5:-0.25205\n",
            "[193]\tvalidation_0-merror:0.57456\tvalidation_1-merror:0.84541\tvalidation_0-MAP@5:-0.54042\tvalidation_1-MAP@5:-0.25241\n",
            "[194]\tvalidation_0-merror:0.57348\tvalidation_1-merror:0.84545\tvalidation_0-MAP@5:-0.54146\tvalidation_1-MAP@5:-0.25240\n",
            "[195]\tvalidation_0-merror:0.57233\tvalidation_1-merror:0.84561\tvalidation_0-MAP@5:-0.54259\tvalidation_1-MAP@5:-0.25206\n",
            "[196]\tvalidation_0-merror:0.57093\tvalidation_1-merror:0.84553\tvalidation_0-MAP@5:-0.54382\tvalidation_1-MAP@5:-0.25219\n",
            "[197]\tvalidation_0-merror:0.56974\tvalidation_1-merror:0.84561\tvalidation_0-MAP@5:-0.54501\tvalidation_1-MAP@5:-0.25236\n",
            "[198]\tvalidation_0-merror:0.56830\tvalidation_1-merror:0.84536\tvalidation_0-MAP@5:-0.54627\tvalidation_1-MAP@5:-0.25244\n",
            "[199]\tvalidation_0-merror:0.56713\tvalidation_1-merror:0.84570\tvalidation_0-MAP@5:-0.54736\tvalidation_1-MAP@5:-0.25212\n",
            "[200]\tvalidation_0-merror:0.56601\tvalidation_1-merror:0.84566\tvalidation_0-MAP@5:-0.54838\tvalidation_1-MAP@5:-0.25210\n",
            "[201]\tvalidation_0-merror:0.56485\tvalidation_1-merror:0.84524\tvalidation_0-MAP@5:-0.54957\tvalidation_1-MAP@5:-0.25244\n",
            "[202]\tvalidation_0-merror:0.56382\tvalidation_1-merror:0.84503\tvalidation_0-MAP@5:-0.55058\tvalidation_1-MAP@5:-0.25243\n",
            "[203]\tvalidation_0-merror:0.56258\tvalidation_1-merror:0.84487\tvalidation_0-MAP@5:-0.55169\tvalidation_1-MAP@5:-0.25256\n",
            "[204]\tvalidation_0-merror:0.56102\tvalidation_1-merror:0.84474\tvalidation_0-MAP@5:-0.55301\tvalidation_1-MAP@5:-0.25263\n",
            "[205]\tvalidation_0-merror:0.55980\tvalidation_1-merror:0.84495\tvalidation_0-MAP@5:-0.55411\tvalidation_1-MAP@5:-0.25256\n"
          ],
          "name": "stdout"
        },
        {
          "output_type": "stream",
          "text": [
            "[206]\tvalidation_0-merror:0.55827\tvalidation_1-merror:0.84487\tvalidation_0-MAP@5:-0.55537\tvalidation_1-MAP@5:-0.25241\n",
            "[207]\tvalidation_0-merror:0.55701\tvalidation_1-merror:0.84520\tvalidation_0-MAP@5:-0.55665\tvalidation_1-MAP@5:-0.25223\n",
            "[208]\tvalidation_0-merror:0.55584\tvalidation_1-merror:0.84549\tvalidation_0-MAP@5:-0.55781\tvalidation_1-MAP@5:-0.25220\n",
            "[209]\tvalidation_0-merror:0.55442\tvalidation_1-merror:0.84520\tvalidation_0-MAP@5:-0.55910\tvalidation_1-MAP@5:-0.25234\n",
            "[210]\tvalidation_0-merror:0.55317\tvalidation_1-merror:0.84457\tvalidation_0-MAP@5:-0.56015\tvalidation_1-MAP@5:-0.25258\n",
            "[211]\tvalidation_0-merror:0.55218\tvalidation_1-merror:0.84491\tvalidation_0-MAP@5:-0.56109\tvalidation_1-MAP@5:-0.25253\n",
            "[212]\tvalidation_0-merror:0.55107\tvalidation_1-merror:0.84528\tvalidation_0-MAP@5:-0.56216\tvalidation_1-MAP@5:-0.25224\n",
            "[213]\tvalidation_0-merror:0.54976\tvalidation_1-merror:0.84574\tvalidation_0-MAP@5:-0.56334\tvalidation_1-MAP@5:-0.25195\n",
            "[214]\tvalidation_0-merror:0.54839\tvalidation_1-merror:0.84603\tvalidation_0-MAP@5:-0.56459\tvalidation_1-MAP@5:-0.25179\n",
            "[215]\tvalidation_0-merror:0.54723\tvalidation_1-merror:0.84624\tvalidation_0-MAP@5:-0.56578\tvalidation_1-MAP@5:-0.25171\n",
            "[216]\tvalidation_0-merror:0.54574\tvalidation_1-merror:0.84607\tvalidation_0-MAP@5:-0.56698\tvalidation_1-MAP@5:-0.25187\n",
            "[217]\tvalidation_0-merror:0.54403\tvalidation_1-merror:0.84561\tvalidation_0-MAP@5:-0.56841\tvalidation_1-MAP@5:-0.25218\n",
            "[218]\tvalidation_0-merror:0.54269\tvalidation_1-merror:0.84524\tvalidation_0-MAP@5:-0.56965\tvalidation_1-MAP@5:-0.25256\n",
            "[219]\tvalidation_0-merror:0.54136\tvalidation_1-merror:0.84478\tvalidation_0-MAP@5:-0.57082\tvalidation_1-MAP@5:-0.25279\n",
            "[220]\tvalidation_0-merror:0.54005\tvalidation_1-merror:0.84549\tvalidation_0-MAP@5:-0.57199\tvalidation_1-MAP@5:-0.25229\n",
            "[221]\tvalidation_0-merror:0.53890\tvalidation_1-merror:0.84495\tvalidation_0-MAP@5:-0.57307\tvalidation_1-MAP@5:-0.25260\n",
            "[222]\tvalidation_0-merror:0.53770\tvalidation_1-merror:0.84511\tvalidation_0-MAP@5:-0.57413\tvalidation_1-MAP@5:-0.25251\n",
            "[223]\tvalidation_0-merror:0.53666\tvalidation_1-merror:0.84541\tvalidation_0-MAP@5:-0.57517\tvalidation_1-MAP@5:-0.25244\n",
            "[224]\tvalidation_0-merror:0.53535\tvalidation_1-merror:0.84503\tvalidation_0-MAP@5:-0.57634\tvalidation_1-MAP@5:-0.25258\n",
            "[225]\tvalidation_0-merror:0.53396\tvalidation_1-merror:0.84516\tvalidation_0-MAP@5:-0.57749\tvalidation_1-MAP@5:-0.25264\n",
            "[226]\tvalidation_0-merror:0.53300\tvalidation_1-merror:0.84553\tvalidation_0-MAP@5:-0.57852\tvalidation_1-MAP@5:-0.25266\n",
            "[227]\tvalidation_0-merror:0.53177\tvalidation_1-merror:0.84474\tvalidation_0-MAP@5:-0.57961\tvalidation_1-MAP@5:-0.25284\n",
            "[228]\tvalidation_0-merror:0.53071\tvalidation_1-merror:0.84453\tvalidation_0-MAP@5:-0.58062\tvalidation_1-MAP@5:-0.25300\n",
            "[229]\tvalidation_0-merror:0.52954\tvalidation_1-merror:0.84491\tvalidation_0-MAP@5:-0.58163\tvalidation_1-MAP@5:-0.25276\n",
            "[230]\tvalidation_0-merror:0.52842\tvalidation_1-merror:0.84441\tvalidation_0-MAP@5:-0.58267\tvalidation_1-MAP@5:-0.25301\n",
            "[231]\tvalidation_0-merror:0.52724\tvalidation_1-merror:0.84499\tvalidation_0-MAP@5:-0.58375\tvalidation_1-MAP@5:-0.25273\n",
            "[232]\tvalidation_0-merror:0.52632\tvalidation_1-merror:0.84474\tvalidation_0-MAP@5:-0.58469\tvalidation_1-MAP@5:-0.25276\n",
            "[233]\tvalidation_0-merror:0.52509\tvalidation_1-merror:0.84474\tvalidation_0-MAP@5:-0.58576\tvalidation_1-MAP@5:-0.25276\n",
            "[234]\tvalidation_0-merror:0.52379\tvalidation_1-merror:0.84474\tvalidation_0-MAP@5:-0.58695\tvalidation_1-MAP@5:-0.25274\n",
            "[235]\tvalidation_0-merror:0.52269\tvalidation_1-merror:0.84441\tvalidation_0-MAP@5:-0.58804\tvalidation_1-MAP@5:-0.25283\n",
            "[236]\tvalidation_0-merror:0.52158\tvalidation_1-merror:0.84441\tvalidation_0-MAP@5:-0.58905\tvalidation_1-MAP@5:-0.25297\n",
            "[237]\tvalidation_0-merror:0.52039\tvalidation_1-merror:0.84383\tvalidation_0-MAP@5:-0.59006\tvalidation_1-MAP@5:-0.25314\n",
            "[238]\tvalidation_0-merror:0.51917\tvalidation_1-merror:0.84391\tvalidation_0-MAP@5:-0.59108\tvalidation_1-MAP@5:-0.25316\n",
            "[239]\tvalidation_0-merror:0.51756\tvalidation_1-merror:0.84387\tvalidation_0-MAP@5:-0.59240\tvalidation_1-MAP@5:-0.25311\n",
            "[240]\tvalidation_0-merror:0.51633\tvalidation_1-merror:0.84345\tvalidation_0-MAP@5:-0.59343\tvalidation_1-MAP@5:-0.25348\n",
            "[241]\tvalidation_0-merror:0.51503\tvalidation_1-merror:0.84325\tvalidation_0-MAP@5:-0.59458\tvalidation_1-MAP@5:-0.25360\n",
            "[242]\tvalidation_0-merror:0.51391\tvalidation_1-merror:0.84379\tvalidation_0-MAP@5:-0.59564\tvalidation_1-MAP@5:-0.25321\n",
            "[243]\tvalidation_0-merror:0.51274\tvalidation_1-merror:0.84391\tvalidation_0-MAP@5:-0.59669\tvalidation_1-MAP@5:-0.25315\n",
            "[244]\tvalidation_0-merror:0.51155\tvalidation_1-merror:0.84412\tvalidation_0-MAP@5:-0.59774\tvalidation_1-MAP@5:-0.25291\n",
            "[245]\tvalidation_0-merror:0.51073\tvalidation_1-merror:0.84383\tvalidation_0-MAP@5:-0.59856\tvalidation_1-MAP@5:-0.25318\n",
            "[246]\tvalidation_0-merror:0.50958\tvalidation_1-merror:0.84358\tvalidation_0-MAP@5:-0.59958\tvalidation_1-MAP@5:-0.25343\n",
            "[247]\tvalidation_0-merror:0.50841\tvalidation_1-merror:0.84370\tvalidation_0-MAP@5:-0.60056\tvalidation_1-MAP@5:-0.25343\n",
            "[248]\tvalidation_0-merror:0.50725\tvalidation_1-merror:0.84366\tvalidation_0-MAP@5:-0.60161\tvalidation_1-MAP@5:-0.25339\n",
            "[249]\tvalidation_0-merror:0.50620\tvalidation_1-merror:0.84379\tvalidation_0-MAP@5:-0.60257\tvalidation_1-MAP@5:-0.25331\n",
            "[250]\tvalidation_0-merror:0.50525\tvalidation_1-merror:0.84420\tvalidation_0-MAP@5:-0.60347\tvalidation_1-MAP@5:-0.25314\n",
            "[251]\tvalidation_0-merror:0.50408\tvalidation_1-merror:0.84370\tvalidation_0-MAP@5:-0.60448\tvalidation_1-MAP@5:-0.25349\n",
            "[252]\tvalidation_0-merror:0.50305\tvalidation_1-merror:0.84349\tvalidation_0-MAP@5:-0.60545\tvalidation_1-MAP@5:-0.25347\n",
            "[253]\tvalidation_0-merror:0.50180\tvalidation_1-merror:0.84287\tvalidation_0-MAP@5:-0.60654\tvalidation_1-MAP@5:-0.25389\n",
            "[254]\tvalidation_0-merror:0.50075\tvalidation_1-merror:0.84279\tvalidation_0-MAP@5:-0.60750\tvalidation_1-MAP@5:-0.25390\n",
            "[255]\tvalidation_0-merror:0.49964\tvalidation_1-merror:0.84291\tvalidation_0-MAP@5:-0.60847\tvalidation_1-MAP@5:-0.25367\n",
            "[256]\tvalidation_0-merror:0.49865\tvalidation_1-merror:0.84320\tvalidation_0-MAP@5:-0.60947\tvalidation_1-MAP@5:-0.25356\n",
            "[257]\tvalidation_0-merror:0.49767\tvalidation_1-merror:0.84283\tvalidation_0-MAP@5:-0.61033\tvalidation_1-MAP@5:-0.25363\n",
            "[258]\tvalidation_0-merror:0.49624\tvalidation_1-merror:0.84258\tvalidation_0-MAP@5:-0.61154\tvalidation_1-MAP@5:-0.25378\n",
            "[259]\tvalidation_0-merror:0.49540\tvalidation_1-merror:0.84212\tvalidation_0-MAP@5:-0.61230\tvalidation_1-MAP@5:-0.25404\n",
            "[260]\tvalidation_0-merror:0.49408\tvalidation_1-merror:0.84291\tvalidation_0-MAP@5:-0.61338\tvalidation_1-MAP@5:-0.25355\n",
            "[261]\tvalidation_0-merror:0.49298\tvalidation_1-merror:0.84295\tvalidation_0-MAP@5:-0.61443\tvalidation_1-MAP@5:-0.25348\n",
            "[262]\tvalidation_0-merror:0.49180\tvalidation_1-merror:0.84295\tvalidation_0-MAP@5:-0.61547\tvalidation_1-MAP@5:-0.25340\n",
            "[263]\tvalidation_0-merror:0.49061\tvalidation_1-merror:0.84275\tvalidation_0-MAP@5:-0.61652\tvalidation_1-MAP@5:-0.25353\n",
            "[264]\tvalidation_0-merror:0.48964\tvalidation_1-merror:0.84291\tvalidation_0-MAP@5:-0.61742\tvalidation_1-MAP@5:-0.25323\n",
            "[265]\tvalidation_0-merror:0.48855\tvalidation_1-merror:0.84212\tvalidation_0-MAP@5:-0.61838\tvalidation_1-MAP@5:-0.25370\n",
            "[266]\tvalidation_0-merror:0.48754\tvalidation_1-merror:0.84221\tvalidation_0-MAP@5:-0.61933\tvalidation_1-MAP@5:-0.25388\n",
            "[267]\tvalidation_0-merror:0.48647\tvalidation_1-merror:0.84216\tvalidation_0-MAP@5:-0.62040\tvalidation_1-MAP@5:-0.25394\n",
            "[268]\tvalidation_0-merror:0.48563\tvalidation_1-merror:0.84212\tvalidation_0-MAP@5:-0.62124\tvalidation_1-MAP@5:-0.25428\n",
            "[269]\tvalidation_0-merror:0.48451\tvalidation_1-merror:0.84254\tvalidation_0-MAP@5:-0.62223\tvalidation_1-MAP@5:-0.25388\n",
            "[270]\tvalidation_0-merror:0.48348\tvalidation_1-merror:0.84241\tvalidation_0-MAP@5:-0.62317\tvalidation_1-MAP@5:-0.25407\n",
            "[271]\tvalidation_0-merror:0.48246\tvalidation_1-merror:0.84271\tvalidation_0-MAP@5:-0.62410\tvalidation_1-MAP@5:-0.25398\n",
            "[272]\tvalidation_0-merror:0.48124\tvalidation_1-merror:0.84212\tvalidation_0-MAP@5:-0.62508\tvalidation_1-MAP@5:-0.25430\n",
            "[273]\tvalidation_0-merror:0.48023\tvalidation_1-merror:0.84171\tvalidation_0-MAP@5:-0.62604\tvalidation_1-MAP@5:-0.25451\n",
            "[274]\tvalidation_0-merror:0.47928\tvalidation_1-merror:0.84142\tvalidation_0-MAP@5:-0.62697\tvalidation_1-MAP@5:-0.25480\n",
            "[275]\tvalidation_0-merror:0.47826\tvalidation_1-merror:0.84125\tvalidation_0-MAP@5:-0.62782\tvalidation_1-MAP@5:-0.25474\n"
          ],
          "name": "stdout"
        },
        {
          "output_type": "stream",
          "text": [
            "[276]\tvalidation_0-merror:0.47710\tvalidation_1-merror:0.84167\tvalidation_0-MAP@5:-0.62890\tvalidation_1-MAP@5:-0.25469\n",
            "[277]\tvalidation_0-merror:0.47605\tvalidation_1-merror:0.84196\tvalidation_0-MAP@5:-0.62981\tvalidation_1-MAP@5:-0.25442\n",
            "[278]\tvalidation_0-merror:0.47506\tvalidation_1-merror:0.84191\tvalidation_0-MAP@5:-0.63074\tvalidation_1-MAP@5:-0.25457\n",
            "[279]\tvalidation_0-merror:0.47392\tvalidation_1-merror:0.84183\tvalidation_0-MAP@5:-0.63178\tvalidation_1-MAP@5:-0.25463\n",
            "[280]\tvalidation_0-merror:0.47294\tvalidation_1-merror:0.84142\tvalidation_0-MAP@5:-0.63267\tvalidation_1-MAP@5:-0.25476\n",
            "[281]\tvalidation_0-merror:0.47189\tvalidation_1-merror:0.84142\tvalidation_0-MAP@5:-0.63355\tvalidation_1-MAP@5:-0.25477\n",
            "[282]\tvalidation_0-merror:0.47086\tvalidation_1-merror:0.84150\tvalidation_0-MAP@5:-0.63447\tvalidation_1-MAP@5:-0.25466\n",
            "[283]\tvalidation_0-merror:0.46987\tvalidation_1-merror:0.84121\tvalidation_0-MAP@5:-0.63542\tvalidation_1-MAP@5:-0.25485\n",
            "[284]\tvalidation_0-merror:0.46872\tvalidation_1-merror:0.84154\tvalidation_0-MAP@5:-0.63636\tvalidation_1-MAP@5:-0.25471\n",
            "[285]\tvalidation_0-merror:0.46791\tvalidation_1-merror:0.84142\tvalidation_0-MAP@5:-0.63720\tvalidation_1-MAP@5:-0.25476\n",
            "[286]\tvalidation_0-merror:0.46684\tvalidation_1-merror:0.84137\tvalidation_0-MAP@5:-0.63811\tvalidation_1-MAP@5:-0.25488\n",
            "[287]\tvalidation_0-merror:0.46574\tvalidation_1-merror:0.84125\tvalidation_0-MAP@5:-0.63905\tvalidation_1-MAP@5:-0.25488\n",
            "[288]\tvalidation_0-merror:0.46451\tvalidation_1-merror:0.84158\tvalidation_0-MAP@5:-0.64009\tvalidation_1-MAP@5:-0.25465\n",
            "[289]\tvalidation_0-merror:0.46341\tvalidation_1-merror:0.84121\tvalidation_0-MAP@5:-0.64093\tvalidation_1-MAP@5:-0.25484\n",
            "[290]\tvalidation_0-merror:0.46266\tvalidation_1-merror:0.84129\tvalidation_0-MAP@5:-0.64167\tvalidation_1-MAP@5:-0.25492\n",
            "[291]\tvalidation_0-merror:0.46168\tvalidation_1-merror:0.84125\tvalidation_0-MAP@5:-0.64260\tvalidation_1-MAP@5:-0.25485\n",
            "[292]\tvalidation_0-merror:0.46052\tvalidation_1-merror:0.84088\tvalidation_0-MAP@5:-0.64359\tvalidation_1-MAP@5:-0.25507\n",
            "[293]\tvalidation_0-merror:0.45929\tvalidation_1-merror:0.84079\tvalidation_0-MAP@5:-0.64458\tvalidation_1-MAP@5:-0.25511\n",
            "[294]\tvalidation_0-merror:0.45824\tvalidation_1-merror:0.84067\tvalidation_0-MAP@5:-0.64546\tvalidation_1-MAP@5:-0.25526\n",
            "[295]\tvalidation_0-merror:0.45726\tvalidation_1-merror:0.84117\tvalidation_0-MAP@5:-0.64634\tvalidation_1-MAP@5:-0.25495\n",
            "[296]\tvalidation_0-merror:0.45614\tvalidation_1-merror:0.84108\tvalidation_0-MAP@5:-0.64727\tvalidation_1-MAP@5:-0.25502\n",
            "[297]\tvalidation_0-merror:0.45491\tvalidation_1-merror:0.84100\tvalidation_0-MAP@5:-0.64828\tvalidation_1-MAP@5:-0.25501\n",
            "[298]\tvalidation_0-merror:0.45372\tvalidation_1-merror:0.84146\tvalidation_0-MAP@5:-0.64924\tvalidation_1-MAP@5:-0.25489\n",
            "[299]\tvalidation_0-merror:0.45277\tvalidation_1-merror:0.84167\tvalidation_0-MAP@5:-0.65006\tvalidation_1-MAP@5:-0.25467\n"
          ],
          "name": "stdout"
        },
        {
          "output_type": "display_data",
          "data": {
            "image/png": "[encoded data removed]",
            "text/plain": [
              "<Figure size 432x288 with 1 Axes>"
            ]
          },
          "metadata": {
            "tags": [],
            "needs_background": "light"
          }
        },
        {
          "output_type": "stream",
          "text": [
            "CPU times: user 46min 48s, sys: 0 ns, total: 46min 48s\n",
            "Wall time: 46min 43s\n"
          ],
          "name": "stdout"
        }
      ]
    },
    {
      "cell_type": "code",
      "metadata": {
        "colab": {
          "base_uri": "https://localhost:8080/",
          "height": 295
        },
        "id": "TWGunWazeJeI",
        "outputId": "09272e5d-41e0-4d74-e968-f227624df631"
      },
      "source": [
        "#gbt.save_model('0001.model')\n",
        "gbt.get_booster().feature_names = feature_names\n",
        "xgb.plot_importance(gbt)\n",
        "plt.show()"
      ],
      "execution_count": null,
      "outputs": [
        {
          "output_type": "display_data",
          "data": {
            "image/png": "[encoded data removed]",
            "text/plain": [
              "<Figure size 432x288 with 1 Axes>"
            ]
          },
          "metadata": {
            "tags": [],
            "needs_background": "light"
          }
        }
      ]
    },
    {
      "cell_type": "markdown",
      "metadata": {
        "id": "D6CLWJe9Pgg3"
      },
      "source": [
        "# Leakage\n"
      ]
    },
    {
      "cell_type": "markdown",
      "metadata": {
        "id": "O5YF35uyKv-E"
      },
      "source": [
        "## Original"
      ]
    },
    {
      "cell_type": "code",
      "metadata": {
        "colab": {
          "base_uri": "https://localhost:8080/"
        },
        "id": "Nz8ivKcxPhoc",
        "outputId": "9df1cbd7-6788-42d4-9f01-ec2d2d852da0"
      },
      "source": [
        "%%time\n",
        "# ORIGINAL FILE\n",
        "import datetime\n",
        "from heapq import nlargest\n",
        "from operator import itemgetter\n",
        "from collections import defaultdict\n",
        "\n",
        "def run_solution():\n",
        "  print('Preparing arrays...')\n",
        "  f = open(root_path + \"train.csv\", \"r\")\n",
        "  f.readline()\n",
        "  best_hotels_od_ulc = defaultdict(lambda: defaultdict(int))\n",
        "  best_hotels_search_dest = defaultdict(lambda: defaultdict(int))\n",
        "  best_hotels_search_dest1 = defaultdict(lambda: defaultdict(int))\n",
        "  best_hotel_country = defaultdict(lambda: defaultdict(int))\n",
        "  popular_hotel_cluster = defaultdict(int)\n",
        "  total = 0\n",
        "\n",
        "  # Calc counts\n",
        "  while 1:\n",
        "    # could substitute this for a loop through the pandas dF rows\n",
        "    line = f.readline().strip()\n",
        "    total += 1\n",
        "\n",
        "    if total % 10000000 == 0:\n",
        "      print('Read {} lines...'.format(total))\n",
        "\n",
        "    if line == '':\n",
        "      break\n",
        "\n",
        "    # Can be omitted if we view the data through a pandas dF\n",
        "    arr = line.split(\",\")\n",
        "    book_year = int(arr[0][:4])\n",
        "    user_location_city = arr[5]\n",
        "    orig_destination_distance = arr[6]\n",
        "    srch_destination_id = arr[16]\n",
        "    is_booking = int(arr[18])\n",
        "    hotel_country = arr[21]\n",
        "    hotel_market = arr[22]\n",
        "    hotel_cluster = arr[23]\n",
        "\n",
        "    # could add these to pandas dF. Could define these new cols outside of \n",
        "    # the loop \n",
        "    append_1 = 3 + 17*is_booking\n",
        "    append_2 = 1 + 5*is_booking\n",
        "\n",
        "    # this is the most important part of the data leak to take into account\n",
        "    if user_location_city != '' and orig_destination_distance != '':\n",
        "      best_hotels_od_ulc[(user_location_city, orig_destination_distance)][hotel_cluster] += 1\n",
        "\n",
        "    # less important aspects and could be substituted for, say, classifier's predictions\n",
        "    if srch_destination_id != '' and hotel_country != '' and hotel_market != '' and book_year == 2014:\n",
        "      best_hotels_search_dest[(srch_destination_id, hotel_country, hotel_market)][hotel_cluster] += append_1\n",
        "    \n",
        "    # same story\n",
        "    if srch_destination_id != '':\n",
        "      best_hotels_search_dest1[srch_destination_id][hotel_cluster] += append_1\n",
        "    \n",
        "    # even less important\n",
        "    if hotel_country != '':\n",
        "      best_hotel_country[hotel_country][hotel_cluster] += append_2\n",
        "    \n",
        "    # skippp\n",
        "    popular_hotel_cluster[hotel_cluster] += 1\n",
        "  \n",
        "  f.close()\n",
        "\n",
        "  # File writing because Kaggle-submission oriented. Can substitute it with\n",
        "  # a more dynamic approach, i.e. a function that only takes an entry each time,\n",
        "  # equiv of a line here\n",
        "  print('Generate submission...')\n",
        "  now = datetime.datetime.now()\n",
        "  path = 'submission_' + str(now.strftime(\"%Y-%m-%d-%H-%M\")) + '.csv'\n",
        "  out = open(path, \"w\")\n",
        "  f = open(root_path + \"test.csv\", \"r\")\n",
        "  f.readline()\n",
        "  total = 0\n",
        "  out.write(\"id,hotel_cluster\\n\")\n",
        "\n",
        "  # most popular cluster hotels, used to fill in the top 5 choices. We can probably\n",
        "  # ignore this in favor of our models\n",
        "  topclasters = nlargest(5, sorted(popular_hotel_cluster.items()), key=itemgetter(1))\n",
        "\n",
        "  while 1:\n",
        "    line = f.readline().strip()\n",
        "    total += 1\n",
        "\n",
        "    if total % 1000000 == 0:\n",
        "      print('Write {} lines...'.format(total))\n",
        "\n",
        "    if line == '':\n",
        "      break\n",
        "\n",
        "    # we'll already know these attributes from our pandas/np setup\n",
        "    arr = line.split(\",\")\n",
        "    id = arr[0]\n",
        "    user_location_city = arr[6]\n",
        "    orig_destination_distance = arr[7]\n",
        "    srch_destination_id = arr[17]\n",
        "    hotel_country = arr[20]\n",
        "    hotel_market = arr[21]\n",
        "\n",
        "    out.write(str(id) + ',')\n",
        "    # keeps track of the predictions made so far\n",
        "    filled = []\n",
        "\n",
        "    # checks for most important of the previous attributes\n",
        "    s1 = (user_location_city, orig_destination_distance)\n",
        "    if s1 in best_hotels_od_ulc:\n",
        "      d = best_hotels_od_ulc[s1]\n",
        "      topitems = nlargest(5, sorted(d.items()), key=itemgetter(1))\n",
        "      for i in range(len(topitems)):\n",
        "        if topitems[i][0] in filled:\n",
        "          continue\n",
        "        if len(filled) == 5:\n",
        "          break\n",
        "        # here it would be like \"shift\" the model's predictions by one and add\n",
        "        # this heuristic's prediction\n",
        "        out.write(' ' + topitems[i][0])\n",
        "        filled.append(topitems[i][0])\n",
        "\n",
        "    # similar process, but essentially \"cases down\" to lower priority predictions\n",
        "    s2 = (srch_destination_id, hotel_country, hotel_market)\n",
        "    if s2 in best_hotels_search_dest:\n",
        "      d = best_hotels_search_dest[s2]\n",
        "      topitems = nlargest(5, d.items(), key=itemgetter(1))\n",
        "      for i in range(len(topitems)):\n",
        "        if topitems[i][0] in filled:\n",
        "          continue\n",
        "        if len(filled) == 5:\n",
        "          break\n",
        "        out.write(' ' + topitems[i][0])\n",
        "        filled.append(topitems[i][0])\n",
        "\n",
        "    elif srch_destination_id in best_hotels_search_dest1:\n",
        "      d = best_hotels_search_dest1[srch_destination_id]\n",
        "      topitems = nlargest(5, d.items(), key=itemgetter(1))\n",
        "      for i in range(len(topitems)):\n",
        "        if topitems[i][0] in filled:\n",
        "          continue\n",
        "        if len(filled) == 5:\n",
        "          break\n",
        "        out.write(' ' + topitems[i][0])\n",
        "        filled.append(topitems[i][0])\n",
        "\n",
        "    if hotel_country in best_hotel_country:\n",
        "      d = best_hotel_country[hotel_country]\n",
        "      topitems = nlargest(5, d.items(), key=itemgetter(1))\n",
        "      for i in range(len(topitems)):\n",
        "        if topitems[i][0] in filled:\n",
        "            continue\n",
        "        if len(filled) == 5:\n",
        "            break\n",
        "        out.write(' ' + topitems[i][0])\n",
        "        filled.append(topitems[i][0])\n",
        "\n",
        "    for i in range(len(topclasters)):\n",
        "      if topclasters[i][0] in filled:\n",
        "        continue\n",
        "      if len(filled) == 5:\n",
        "        break\n",
        "      out.write(' ' + topclasters[i][0])\n",
        "      filled.append(topclasters[i][0])\n",
        "\n",
        "    out.write(\"\\n\")\n",
        "  out.close()\n",
        "  print('Completed!')\n",
        "\n",
        "# run_solution() # this will generate a submission file"
      ],
      "execution_count": null,
      "outputs": [
        {
          "output_type": "stream",
          "text": [
            "CPU times: user 4 µs, sys: 6 µs, total: 10 µs\n",
            "Wall time: 11.2 µs\n"
          ],
          "name": "stdout"
        }
      ]
    },
    {
      "cell_type": "markdown",
      "metadata": {
        "id": "HET9JvMNKzpN"
      },
      "source": [
        "## Adaptation"
      ]
    },
    {
      "cell_type": "code",
      "metadata": {
        "id": "16ddZ1oJQU8_"
      },
      "source": [
        "# modifications\n",
        "import datetime\n",
        "from heapq import nlargest\n",
        "from operator import itemgetter\n",
        "from collections import defaultdict\n",
        "\n",
        "# the panda dF \"data\" here contains all original training data, i.e. also labels\n",
        "# terribly inefficient\n",
        "class leaky():\n",
        "  def __init__(self, data=None, read_all=False, filename='train.csv'):\n",
        "    self.best_hotels_od_ulc = defaultdict(lambda: defaultdict(int))\n",
        "    self.best_hotels_search_dest = defaultdict(lambda: defaultdict(int))\n",
        "    if not data is None:\n",
        "      self.fit(data)\n",
        "    if read_all:\n",
        "      self.fit_all(filename)\n",
        "  \n",
        "  def fit_all(self, filename):\n",
        "    with tqdm(total = 37670294) as bar:\n",
        "      f = open(root_path + filename, \"r\")\n",
        "      f.readline()\n",
        "      while 1:\n",
        "        line = f.readline().strip()\n",
        "\n",
        "        if line == '':\n",
        "          break\n",
        "\n",
        "        arr = line.split(\",\")\n",
        "        book_year = int(arr[0][:4])\n",
        "        user_location_city = arr[5]\n",
        "        orig_destination_distance = arr[6]\n",
        "        srch_destination_id = arr[16]\n",
        "        is_booking = int(arr[18])\n",
        "        hotel_country = arr[21]\n",
        "        hotel_market = arr[22]\n",
        "        hotel_cluster = arr[23]\n",
        "\n",
        "        append_1 = 3 + 17*is_booking\n",
        "        append_2 = 1 + 5*is_booking\n",
        "\n",
        "        # this is the most important part of the data leak to take into account\n",
        "        if user_location_city != '' and orig_destination_distance != '':\n",
        "          self.best_hotels_od_ulc[(user_location_city, orig_destination_distance)][hotel_cluster] += 1\n",
        "\n",
        "        # less important aspects and could be substituted for, say, classifier's predictions\n",
        "        if srch_destination_id != '' and hotel_country != '' and hotel_market != '' and book_year == 2014:\n",
        "          self.best_hotels_search_dest[(srch_destination_id, hotel_country, hotel_market)][hotel_cluster] += append_1\n",
        "        bar.update(1)\n",
        "    f.close()\n",
        "\n",
        "\n",
        "  def fit(self, data):\n",
        "    self.d = data.copy(deep=True)\n",
        "    self.d['add'] = 3 + 17 * data['is_booking']\n",
        "    with tqdm(total=len(self.d)) as bar:\n",
        "      for _, r in self.d.iterrows():\n",
        "        # this is the most important part of the data leak to take into account\n",
        "        if not r[['user_location_city', 'orig_destination_distance']].isnull().any():\n",
        "          self.best_hotels_od_ulc[(r['user_location_city'], \n",
        "                        r['orig_destination_distance'])][r['hotel_cluster']] += 1\n",
        "\n",
        "        # less important aspects and could be substituted for, say, classifier's predictions\n",
        "        if not r[['srch_destination_id', 'hotel_market', 'hotel_country']].isnull().any() and r['date_time'].year == 2014:\n",
        "          self.best_hotels_search_dest[(r['srch_destination_id'], r['hotel_country'], \n",
        "                                      r['hotel_market'])][r['hotel_cluster']] += r['add']\n",
        "        bar.update(1)\n",
        "    \n",
        "    \n",
        "  # takes the predictions of a classifier for a testing set, and adjusts them\n",
        "  def predict(self, preds, test, replacements=2):\n",
        "    i = 0\n",
        "    p = np.copy(preds)\n",
        "    with tqdm(total = len(test)) as bar:\n",
        "      for _, r in test.iterrows():\n",
        "        added = []\n",
        "        # checks for most important of the previous attributes\n",
        "        s1 = (r['user_location_city'], r['orig_destination_distance'])\n",
        "        if s1 in self.best_hotels_od_ulc:\n",
        "          added = leaky.add_top_choices(self.best_hotels_od_ulc[s1], added)\n",
        "        \n",
        "        # similar process, but essentially \"cases down\" to lower priority predictions\n",
        "        s2 = (r['srch_destination_id'], r['hotel_country'], r['hotel_market'])\n",
        "        if s2 in self.best_hotels_search_dest:\n",
        "          added = leaky.add_top_choices(self.best_hotels_search_dest[s2], added)\n",
        "        p[i] = leaky.update_preds(added[:replacements], p[i])\n",
        "        i += 1\n",
        "        bar.update(1)\n",
        "    return p\n",
        "  \n",
        "  def predict_all(self, preds, filename='test.csv', replacements=2):\n",
        "    p = np.copy(preds)\n",
        "    f = open(root_path + filename, \"r\")\n",
        "    f.readline()\n",
        "    with tqdm(total = 2528244) as bar:\n",
        "      i = 0\n",
        "      while 1:\n",
        "        line = f.readline().strip()\n",
        "\n",
        "        if line == '':\n",
        "          break\n",
        "\n",
        "        arr = line.split(\",\")\n",
        "        id = arr[0]\n",
        "        user_location_city = arr[6]\n",
        "        orig_destination_distance = arr[7]\n",
        "        srch_destination_id = arr[17]\n",
        "        hotel_country = arr[20]\n",
        "        hotel_market = arr[21]\n",
        "\n",
        "        added = []\n",
        "\n",
        "        s1 = (user_location_city, orig_destination_distance)\n",
        "        if s1 in self.best_hotels_od_ulc:\n",
        "          added = leaky.add_top_choices(self.best_hotels_od_ulc[s1], added)\n",
        "\n",
        "        s2 = (srch_destination_id, hotel_country, hotel_market)\n",
        "        if s2 in self.best_hotels_search_dest:\n",
        "          added = leaky.add_top_choices(self.best_hotels_search_dest[s2], added)\n",
        "        p[i] = leaky.update_preds(added[:replacements], p[i])\n",
        "        i += 1\n",
        "        bar.update(1)\n",
        "    f.close\n",
        "    return p\n",
        "\n",
        "\n",
        "  # adds predictions x to front of list\n",
        "  @staticmethod\n",
        "  def update_preds(x, p):\n",
        "    for el in x:\n",
        "      p = np.delete(p, np.where(p == int(el)))\n",
        "    return np.concatenate((x, p))\n",
        "\n",
        "  # helper for leaky_clf\n",
        "  @staticmethod\n",
        "  def add_top_choices(d, added):\n",
        "    top = nlargest(5, d.items(), key=itemgetter(1))\n",
        "    for item in top:\n",
        "      if item[0] not in added:\n",
        "        added.append(item[0])\n",
        "    return added\n"
      ],
      "execution_count": null,
      "outputs": []
    },
    {
      "cell_type": "code",
      "metadata": {
        "id": "jh8Str97pdhc"
      },
      "source": [
        "def run_leaky_example(load_ps, percentage=0.01, users=12000):\n",
        "    data = load_data(percentage=percentage) if load_ps else leaky_load(users)\n",
        "    \n",
        "    # split first so pandas object gets preserved, and we can further split into leaky/non_leaky\n",
        "    # don't care about y's right now, still attach to the X's as separation is tricky for leaky implementation\n",
        "    X_train_leaky, X_test_leaky, y, _ = train_test_split(data, data['hotel_cluster'],\n",
        "                                             random_state = rstate,\n",
        "                                             test_size = 0.2)\n",
        "    X_train_leaky, X_val_leaky, _, _ = train_test_split(X_train_leaky, y, \n",
        "                                            random_state = rstate,\n",
        "                                            test_size = 0.1)\n",
        "    print(\"Before filtering:\")\n",
        "    print(\"Training data size: %d\" %(len(X_train_leaky)))\n",
        "    print(\"Validation data size: %d\" %(len(X_val_leaky)))\n",
        "    print(\"Test data size: %d\" %(len(X_test_leaky)))\n",
        "    print('Leaky Processing...')\n",
        "    # only keept the bookings for test and validation\n",
        "    X_val_leaky = X_val_leaky[X_val_leaky['is_booking'] == 1]\n",
        "    X_test_leaky = X_test_leaky[X_test_leaky['is_booking'] == 1]\n",
        "    leaky_clf = leaky(X_train_leaky)\n",
        "\n",
        "    # now convert some of the data to numpy model training data\n",
        "    # y_train, y_val, y_test = y_train.to_numpy(), y_val.to_numpy(), y_test.to_numpy()\n",
        "    # filter and add features\n",
        "\n",
        "    # extract and remove y's from validation and testing\n",
        "    y_val, y_test = X_val_leaky['hotel_cluster'].to_numpy(), X_test_leaky['hotel_cluster'].to_numpy()\n",
        "    X_val_leaky.drop(columns=['hotel_cluster'], inplace=True)\n",
        "    X_test_leaky.drop(columns=['hotel_cluster'], inplace=True)\n",
        "\n",
        "\n",
        "    X_train = X_train_leaky.copy(deep=True)\n",
        "    X_val = X_val_leaky.copy(deep=True)\n",
        "    X_test = X_test_leaky.copy(deep=True)\n",
        "\n",
        "    X_train = filter_data(X_train)\n",
        "    X_val, X_test = filter_data(X_val), filter_data(X_test)\n",
        "    y_train = X_train['hotel_cluster'].to_numpy()\n",
        "    X_train.drop(columns=['hotel_cluster'], inplace=True)\n",
        "    print(\"Leaky Training data size: %d\" %(len(X_train_leaky)))\n",
        "    print(\"Model Training data size: %d\" %(len(X_train)))\n",
        "    print(\"Model Validation data size: %d\" %(len(X_val)))\n",
        "    print(\"Model Test data size: %d\" %(len(X_test)))\n",
        "    print('Predicting...')\n",
        "    \n",
        "    # impute\n",
        "    imp = IterativeImputer(missing_values=np.nan)\n",
        "    imp.fit(X_train)\n",
        "    X_train, X_val, X_test = imp.transform(X_train), imp.transform(X_val), imp.transform(X_test)\n",
        "    \n",
        "    # simple example of a not-so performing model and how leaky would affect it\n",
        "    bernNB = BernoulliNB()\n",
        "    bernNB.fit(X_train, y_train)\n",
        "    stats, lk5 = leaky_stats(bernNB, leaky_clf, X_test, y_test, X_test_leaky, replacements=5)\n",
        "    print('Bernouilli Performance')\n",
        "    plot_acc_stats(stats)\n",
        "    print('Bernouilli Performance with at most 5 leaky replacements')\n",
        "    plot_acc_stats(lk5)"
      ],
      "execution_count": null,
      "outputs": []
    },
    {
      "cell_type": "code",
      "metadata": {
        "colab": {
          "base_uri": "https://localhost:8080/",
          "height": 310
        },
        "id": "j6vQOS9n0BA5",
        "outputId": "65d53e35-b184-4e2c-e60f-b583d07fa6e4"
      },
      "source": [
        "%%time\n",
        "# Running On Users only\n",
        "print('\\n[*] Running on all data associated with selected user_ids')\n",
        "run_leaky_example(False)\n",
        "# Running On Data Percentages only -- significant leaky performance drop, not so much for Bernouilli\n",
        "print('\\n[*] Runnning on random subsection of data')\n",
        "run_leaky_example(True)"
      ],
      "execution_count": null,
      "outputs": [
        {
          "output_type": "stream",
          "text": [
            "\n",
            "[*] Running on all data associated with selected user_ids\n"
          ],
          "name": "stdout"
        },
        {
          "output_type": "stream",
          "text": [
            "\r  0%|          | 0/270126 [00:00<?, ?it/s]"
          ],
          "name": "stderr"
        },
        {
          "output_type": "stream",
          "text": [
            "Before filtering:\n",
            "Training data size: 270126\n",
            "Validation data size: 30014\n",
            "Test data size: 75035\n",
            "Leaky Processing...\n"
          ],
          "name": "stdout"
        },
        {
          "output_type": "stream",
          "text": [
            "100%|██████████| 270126/270126 [03:03<00:00, 1472.56it/s]\n"
          ],
          "name": "stderr"
        },
        {
          "output_type": "stream",
          "text": [
            "Leaky Training data size: 270126\n",
            "Model Training data size: 22302\n",
            "Model Validation data size: 2484\n",
            "Model Test data size: 6238\n",
            "Predicting...\n"
          ],
          "name": "stdout"
        },
        {
          "output_type": "stream",
          "text": [
            "100%|██████████| 6238/6238 [00:00<00:00, 7275.54it/s]\n"
          ],
          "name": "stderr"
        },
        {
          "output_type": "stream",
          "text": [
            "Bernouilli Performance\n"
          ],
          "name": "stdout"
        },
        {
          "output_type": "display_data",
          "data": {
            "image/png": "[encoded data removed]",
            "text/plain": [
              "<Figure size 432x288 with 1 Axes>"
            ]
          },
          "metadata": {
            "tags": [],
            "needs_background": "light"
          }
        },
        {
          "output_type": "stream",
          "text": [
            "Bernouilli Performance with at most 5 leaky replacements\n"
          ],
          "name": "stdout"
        },
        {
          "output_type": "display_data",
          "data": {
            "image/png": "[encoded data removed]",
            "text/plain": [
              "<Figure size 432x288 with 1 Axes>"
            ]
          },
          "metadata": {
            "tags": [],
            "needs_background": "light"
          }
        },
        {
          "output_type": "stream",
          "text": [
            "\n",
            "[*] Runnning on random subsection of data\n"
          ],
          "name": "stdout"
        },
        {
          "output_type": "stream",
          "text": [
            "\r  0%|          | 0/271994 [00:00<?, ?it/s]"
          ],
          "name": "stderr"
        },
        {
          "output_type": "stream",
          "text": [
            "Before filtering:\n",
            "Training data size: 271994\n",
            "Validation data size: 30222\n",
            "Test data size: 75554\n",
            "Leaky Processing...\n"
          ],
          "name": "stdout"
        },
        {
          "output_type": "stream",
          "text": [
            "100%|██████████| 271994/271994 [03:05<00:00, 1469.92it/s]\n"
          ],
          "name": "stderr"
        },
        {
          "output_type": "stream",
          "text": [
            "Leaky Training data size: 271994\n",
            "Model Training data size: 21504\n",
            "Model Validation data size: 2458\n",
            "Model Test data size: 6118\n",
            "Predicting...\n"
          ],
          "name": "stdout"
        },
        {
          "output_type": "stream",
          "text": [
            "100%|██████████| 6118/6118 [00:00<00:00, 7476.89it/s]\n"
          ],
          "name": "stderr"
        },
        {
          "output_type": "stream",
          "text": [
            "Bernouilli Performance\n"
          ],
          "name": "stdout"
        },
        {
          "output_type": "display_data",
          "data": {
            "image/png": "[encoded data removed]",
            "text/plain": [
              "<Figure size 432x288 with 1 Axes>"
            ]
          },
          "metadata": {
            "tags": [],
            "needs_background": "light"
          }
        },
        {
          "output_type": "stream",
          "text": [
            "Bernouilli Performance with at most 5 leaky replacements\n"
          ],
          "name": "stdout"
        },
        {
          "output_type": "display_data",
          "data": {
            "image/png": "[encoded data removed]",
            "text/plain": [
              "<Figure size 432x288 with 1 Axes>"
            ]
          },
          "metadata": {
            "tags": [],
            "needs_background": "light"
          }
        },
        {
          "output_type": "stream",
          "text": [
            "CPU times: user 7min 11s, sys: 38.3 s, total: 7min 49s\n",
            "Wall time: 7min 9s\n"
          ],
          "name": "stdout"
        }
      ]
    },
    {
      "cell_type": "markdown",
      "metadata": {
        "id": "zJWnaGVMpdhc"
      },
      "source": [
        "# Full Test Set predictions"
      ]
    },
    {
      "cell_type": "code",
      "metadata": {
        "id": "xJcJJELgpdhc",
        "outputId": "706d5b0c-4510-4d62-d27a-d70526597154"
      },
      "source": [
        "%%time\n",
        "# load train sets\n",
        "X_data = load_data(percentage=1)\n",
        "X_data = filter_data(X_data)\n",
        "labels = X_data[\"hotel_cluster\"].to_numpy()\n",
        "X_data.drop(columns=['hotel_cluster'], inplace=True)\n",
        "feature_names = X_data.columns.to_list() # for graphing\n",
        "X_data = impute_data(X_data)"
      ],
      "execution_count": null,
      "outputs": [
        {
          "output_type": "stream",
          "text": [
            "CPU times: user 12min 5s, sys: 15min, total: 27min 6s\n",
            "Wall time: 2min 32s\n"
          ],
          "name": "stdout"
        }
      ]
    },
    {
      "cell_type": "code",
      "metadata": {
        "id": "yjGo2x4Cpdhc",
        "outputId": "23ef453f-6185-4ab8-e5c4-1e048d29d227"
      },
      "source": [
        "# split into train and validation\n",
        "X_train, X_val, y_train, y_val = train_test_split(X_data, labels,\n",
        "                                                  random_state = rstate,\n",
        "                                                  test_size = 0.1)\n",
        "print(\"Training data size: %d\" %(len(y_train)))\n",
        "print(\"Validation data size: %d\" %(len(y_val)))"
      ],
      "execution_count": null,
      "outputs": [
        {
          "output_type": "stream",
          "text": [
            "Training data size: 2700623\n",
            "Validation data size: 300070\n"
          ],
          "name": "stdout"
        }
      ]
    },
    {
      "cell_type": "code",
      "metadata": {
        "id": "ixDWpmX8pdhc",
        "outputId": "88adea88-ac1d-41ad-80ee-11d270a4fd1a"
      },
      "source": [
        "%%time\n",
        "# load testing set/file\n",
        "X_test = load_data(percentage=1, filename='test.csv')\n",
        "X_test = filter_data(X_test)\n",
        "\n",
        "X_test = impute_data(X_test)\n",
        "print('Testing data size: %d' %(len(X_test)))"
      ],
      "execution_count": null,
      "outputs": [
        {
          "output_type": "stream",
          "text": [
            "CPU times: user 10min 2s, sys: 12min 48s, total: 22min 51s\n",
            "Wall time: 1min 35s\n"
          ],
          "name": "stdout"
        }
      ]
    },
    {
      "cell_type": "code",
      "metadata": {
        "id": "0kDM5EbNpdhc"
      },
      "source": [
        "# scale data for scale-variant methods\n",
        "scaler = StandardScaler()\n",
        "scaler.fit(X_train)\n",
        "\n",
        "X_std_train = scaler.transform(X_train)\n",
        "X_std_val = scaler.transform(X_val)\n",
        "X_std_test = scaler.transform(X_test)"
      ],
      "execution_count": null,
      "outputs": []
    },
    {
      "cell_type": "code",
      "metadata": {
        "id": "KKdj1lCKpdhd",
        "outputId": "d8ca54e1-cf25-41d5-85aa-a5898df460a1"
      },
      "source": [
        "# load leaky wrapper\n",
        "lk = leaky(read_all=True)"
      ],
      "execution_count": null,
      "outputs": [
        {
          "output_type": "stream",
          "text": [
            "100%|█████████▉| 37670293/37670294 [01:11<00:00, 528921.12it/s]\n"
          ],
          "name": "stderr"
        }
      ]
    },
    {
      "cell_type": "code",
      "metadata": {
        "id": "3otvJFGypdhd",
        "outputId": "ca51f1d7-5609-4cf0-c55b-e9800f6a7a52"
      },
      "source": [
        "# fit a model of choice. Bernouilli for speed/memory convenience\n",
        "bernNB = BernoulliNB()\n",
        "bernNB.fit(X_train, y_train)\n",
        "plot_acc_stats(acc_stats(bernNB, X_val, y_val))"
      ],
      "execution_count": null,
      "outputs": [
        {
          "output_type": "display_data",
          "data": {
            "image/png": "[encoded data removed]",
            "text/plain": [
              "<Figure size 432x288 with 1 Axes>"
            ]
          },
          "metadata": {
            "tags": [],
            "needs_background": "light"
          }
        }
      ]
    },
    {
      "cell_type": "code",
      "metadata": {
        "id": "rSmDHzVZpdhd"
      },
      "source": [
        "# compute test set predictions\n",
        "ps = bernNB.predict_proba(X_test)\n",
        "preds = to_preds(ps)"
      ],
      "execution_count": null,
      "outputs": []
    },
    {
      "cell_type": "code",
      "metadata": {
        "id": "iSvSa9xnpdhd",
        "outputId": "1f913c49-564c-4788-eed5-400db0048d85"
      },
      "source": [
        "# submit\n",
        "make_submission(preds)"
      ],
      "execution_count": null,
      "outputs": [
        {
          "output_type": "stream",
          "text": [
            "100%|██████████| 2528243/2528243 [00:08<00:00, 298197.62it/s]\n"
          ],
          "name": "stderr"
        }
      ]
    },
    {
      "cell_type": "code",
      "metadata": {
        "id": "GEPV0IT8pdhd",
        "outputId": "7aaa3f66-1386-4f40-af7a-2b6ae9365f39"
      },
      "source": [
        "# run leaky wrapper and make new submission file\n",
        "make_submission(lk.predict_all(preds, replacements=2))"
      ],
      "execution_count": null,
      "outputs": [
        {
          "output_type": "stream",
          "text": [
            "100%|█████████▉| 2528243/2528244 [03:50<00:00, 10990.95it/s]\n",
            "100%|██████████| 2528243/2528243 [00:08<00:00, 300109.43it/s]\n"
          ],
          "name": "stderr"
        }
      ]
    },
    {
      "cell_type": "code",
      "metadata": {
        "id": "Eiy1frfSpdhd"
      },
      "source": [
        "# load pretrained model\n",
        "gbt = load_gbt()"
      ],
      "execution_count": null,
      "outputs": []
    },
    {
      "cell_type": "code",
      "metadata": {
        "id": "flq_wf0Cpdhd",
        "outputId": "0ce4d5a3-6264-449a-91e0-e573f02f94db"
      },
      "source": [
        "%%time\n",
        "# compute xgboost predictions\n",
        "ps = gbt.predict_proba(X_test)\n",
        "preds = to_preds(ps)"
      ],
      "execution_count": null,
      "outputs": [
        {
          "output_type": "stream",
          "text": [
            "CPU times: user 4h 52min 16s, sys: 484 ms, total: 4h 52min 16s\n",
            "Wall time: 4h 52min 17s\n"
          ],
          "name": "stdout"
        }
      ]
    },
    {
      "cell_type": "code",
      "metadata": {
        "id": "hpoQ3uRnpdhd",
        "outputId": "97c4ca09-baf4-4f45-be51-c7a5616ee8ed"
      },
      "source": [
        "# submit\n",
        "make_submission(preds)"
      ],
      "execution_count": null,
      "outputs": [
        {
          "output_type": "stream",
          "text": [
            "100%|██████████| 2528243/2528243 [00:08<00:00, 301321.36it/s]\n"
          ],
          "name": "stderr"
        }
      ]
    },
    {
      "cell_type": "code",
      "metadata": {
        "id": "mvXipz1Qpdhe",
        "outputId": "ab9f93ac-fbee-4334-9921-9a4964475637"
      },
      "source": [
        "# submit with leaky wrapper\n",
        "make_submission(lk.predict_all(preds, replacements=2))"
      ],
      "execution_count": null,
      "outputs": [
        {
          "output_type": "stream",
          "text": [
            "100%|█████████▉| 2528243/2528244 [04:50<00:00, 8697.44it/s]\n"
          ],
          "name": "stderr"
        }
      ]
    },
    {
      "cell_type": "code",
      "metadata": {
        "id": "QjbjBMhdpdhe"
      },
      "source": [
        ""
      ],
      "execution_count": null,
      "outputs": []
    }
  ]
}